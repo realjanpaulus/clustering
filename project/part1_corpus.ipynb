{
 "cells": [
  {
   "cell_type": "markdown",
   "metadata": {},
   "source": [
    "# 1 - Das Korpus"
   ]
  },
  {
   "cell_type": "code",
   "execution_count": 1,
   "metadata": {},
   "outputs": [],
   "source": [
    "import pandas as pd"
   ]
  },
  {
   "cell_type": "markdown",
   "metadata": {},
   "source": [
    "## Die ursprünglichen Korpora\n",
    "\n",
    "### Das Gedichts-Korpus\n",
    "\n",
    "- Korpus aus deutschen Gedichten\n",
    "- Zeitraum von 1575 bis 1931\n",
    "- 59081 deutsche Gedichte von 232 deutschen und nicht-deutschen Dichtern\n",
    "- Zusammengestellt aus folgenden Korpora:\n",
    "    - DTA-Korpus → TODO\n",
    "    - Textgrid-Korpus → TODO\n",
    "    - Antikoerperchen → Webseite für Schülerinterpretation von Gedichten\n",
    "    \n",
    "### Das Prosa-Korpus\n",
    "\n",
    "- Korpus aus deutschen Prosatexten \n",
    "- Zeitraum 1510 bis 1940\n",
    "- 2735 deutsche Texte von deutschen Autoren\n",
    "- Extrahiert aus dem Gutenberg-DE Projekt"
   ]
  },
  {
   "cell_type": "code",
   "execution_count": 2,
   "metadata": {},
   "outputs": [
    {
     "data": {
      "text/html": [
       "<div>\n",
       "<style scoped>\n",
       "    .dataframe tbody tr th:only-of-type {\n",
       "        vertical-align: middle;\n",
       "    }\n",
       "\n",
       "    .dataframe tbody tr th {\n",
       "        vertical-align: top;\n",
       "    }\n",
       "\n",
       "    .dataframe thead th {\n",
       "        text-align: right;\n",
       "    }\n",
       "</style>\n",
       "<table border=\"1\" class=\"dataframe\">\n",
       "  <thead>\n",
       "    <tr style=\"text-align: right;\">\n",
       "      <th></th>\n",
       "      <th>pid</th>\n",
       "      <th>filename</th>\n",
       "      <th>poet</th>\n",
       "      <th>title</th>\n",
       "      <th>year</th>\n",
       "      <th>poem</th>\n",
       "      <th>poemlength</th>\n",
       "    </tr>\n",
       "  </thead>\n",
       "  <tbody>\n",
       "    <tr>\n",
       "      <th>0</th>\n",
       "      <td>38237</td>\n",
       "      <td>Dahn, Felix_Ein Königsspiel_1873</td>\n",
       "      <td>Dahn, Felix</td>\n",
       "      <td>Ein Königsspiel</td>\n",
       "      <td>1873</td>\n",
       "      <td>Saß der König Artaxerxes In dem goldnen Haus z...</td>\n",
       "      <td>594</td>\n",
       "    </tr>\n",
       "    <tr>\n",
       "      <th>1</th>\n",
       "      <td>25612</td>\n",
       "      <td>Tieck, Ludwig_[So wie ein Weiser schloß er sei...</td>\n",
       "      <td>Tieck, Ludwig</td>\n",
       "      <td>[So wie ein Weiser schloß er seinen Lauf]</td>\n",
       "      <td>1813</td>\n",
       "      <td>So wie ein Weiser schloß er seinen Lauf, Wohlt...</td>\n",
       "      <td>113</td>\n",
       "    </tr>\n",
       "    <tr>\n",
       "      <th>2</th>\n",
       "      <td>61526</td>\n",
       "      <td>Rückert, Friedrich_UNTITLED_1837</td>\n",
       "      <td>Rückert, Friedrich</td>\n",
       "      <td>UNTITLED</td>\n",
       "      <td>1837</td>\n",
       "      <td>Bei einem Lehrer iſt von Schuͤlern eine Gilde,...</td>\n",
       "      <td>287</td>\n",
       "    </tr>\n",
       "  </tbody>\n",
       "</table>\n",
       "</div>"
      ],
      "text/plain": [
       "     pid                                           filename  \\\n",
       "0  38237                   Dahn, Felix_Ein Königsspiel_1873   \n",
       "1  25612  Tieck, Ludwig_[So wie ein Weiser schloß er sei...   \n",
       "2  61526                   Rückert, Friedrich_UNTITLED_1837   \n",
       "\n",
       "                 poet                                      title  year  \\\n",
       "0         Dahn, Felix                            Ein Königsspiel  1873   \n",
       "1       Tieck, Ludwig  [So wie ein Weiser schloß er seinen Lauf]  1813   \n",
       "2  Rückert, Friedrich                                   UNTITLED  1837   \n",
       "\n",
       "                                                poem  poemlength  \n",
       "0  Saß der König Artaxerxes In dem goldnen Haus z...         594  \n",
       "1  So wie ein Weiser schloß er seinen Lauf, Wohlt...         113  \n",
       "2  Bei einem Lehrer iſt von Schuͤlern eine Gilde,...         287  "
      ]
     },
     "execution_count": 2,
     "metadata": {},
     "output_type": "execute_result"
    }
   ],
   "source": [
    "corpus = pd.read_csv(\"../corpora/german_poems.csv\")\n",
    "corpus.head(3)"
   ]
  },
  {
   "cell_type": "markdown",
   "metadata": {},
   "source": [
    "## Probleme \n",
    "\n",
    "### Probleme des ursprünglichen Korpus\n",
    "\n",
    "- sehr kurze Texte (Gedichte) → wenige Features im Vergleich zu anderen Textsorten\n",
    "- Das Problem der Rechtschreibung\n",
    "    - \"Schreib, wie du sprichst!\" bis 1901 (trotz vorherigen Bestrebungen)\n",
    "    - 1901: II. Orthographische Konferenz\n",
    "    - 1903: Einführung der Rechtschreibung in Schulen\n",
    "- Das Korpus ist nicht normalisiert\n",
    "    - Problem? &rarr; nicht unbedingt, kann für Clustering helfen\n",
    "    \n",
    "### Probleme der Epocheneinteilung\n",
    "\n",
    "- keine eindeutigen Epochengrenzen \n",
    "    - Festlegung erfolgt perspektivistisch\n",
    "    - Eine „genaue Scheidung der einzelnen Epochen unmöglich oder erscheint zunächst als bedenkliche, wenn nicht gar als naive Willkür“ (WILPERT, Gero, Sachbuch der der Literatur, Stuttgart 1989, S. 252)\n",
    "- Epochen überschneiden sich oder verlaufen parallel\n",
    "- Epochen haben untergeordnete Epochen\n",
    "- Werke, die innerhalb einer Epoche geschrieben sind, sind nicht zwangsweise stellvertretend für die Epoche\n",
    "    - Henne-Ei-Problem: \n",
    "        - Ordnet man Autoren einer Epoche zu, weil sie für den „Geist der Zeit“ repräsentativ sind \n",
    "        - hat man schon einen Epochenbegriff im Kopf, und lässt dann entsprechend ausgesuchte Autoren diese repräsentieren? \n",
    "    - Was kann „repräsentativ“ sein, wenn durch Kanonbildung stets Minderheitenliteraturen ausgegrenzt werden?\n",
    "\n",
    "&rArr; Epochen sind eine Hilfsfunktion. Sie bieten eine Orientierung, sind aber keine absolute Grenzziehung."
   ]
  },
  {
   "cell_type": "markdown",
   "metadata": {},
   "source": [
    "<img src=\"img/epochen_deutsche_literaturgeschichte.png\" height=\"700px;\" width=\"500px;\"/><br>AMANN, Helmut, Deutsche Literaturgeschichte. Vom Barock bis zum Expressionismus, Verlag Europa-Lehrmittel Nourney, Vollmer GmbH & Co. KG, Haan 2020, S. 10: \"Grafische Übersicht der Epochen\"."
   ]
  },
  {
   "cell_type": "markdown",
   "metadata": {},
   "source": [
    "### Moderne (1890-1920, 1870-1930)\n",
    "<a href=\"https://lektuerehilfe.de/literaturepochen/moderne\">Quelle</a>\n",
    "- Gegenbewegung zu Naturalismus und Realismus\n",
    "- Versuch, den zeitlichen Umbruch widerzuspiegeln\n",
    "- Sammelbegriff für mehrere literarische Strömungen: \n",
    "    - Ästhetizismus\n",
    "    - Impressionismus\n",
    "    - Jugendstil\n",
    "    - Symbolismus\n",
    "    - Neuromantik\n",
    "    - Expressionismus\n",
    "- Sprachlichkeit und Kommunikationslosigkeit im Fokus\n",
    "- <b>Verfall, Dekadenz und Tod</b>\n",
    "- Krise der Sprache und des Bewusstseins\n",
    "- Das komplexe Innenleben des Individuums im Fokus\n",
    "- <b>Auseinandersetzung mit der Sexualität</b>\n",
    "\n",
    "#### Expressionismus \n",
    "- Zeitraum: 1900-1925\n",
    "- Bedeutung: \"Ausdruckskunst\"\n",
    "- geprägt von:\n",
    "    - antibürgerlichen und antinationalistichen Denken\n",
    "    - subjektive, existentielle, gesellschaftsrelevante Themen\n",
    "- umstrittener Epochenbegriff, \"Wir-Gefühl\" als verbindendes Element\n",
    "- Gliederung:\n",
    "    - Frühexpressionismus (1910–1914)\n",
    "    - Kriegsexpressionismus (1914–1918)\n",
    "    - Spätexpressionismus (1918–1925)\n",
    "    "
   ]
  },
  {
   "cell_type": "code",
   "execution_count": null,
   "metadata": {},
   "outputs": [],
   "source": []
  }
 ],
 "metadata": {
  "kernelspec": {
   "display_name": "Python 3",
   "language": "python",
   "name": "python3"
  },
  "language_info": {
   "codemirror_mode": {
    "name": "ipython",
    "version": 3
   },
   "file_extension": ".py",
   "mimetype": "text/x-python",
   "name": "python",
   "nbconvert_exporter": "python",
   "pygments_lexer": "ipython3",
   "version": "3.7.4"
  }
 },
 "nbformat": 4,
 "nbformat_minor": 2
}
