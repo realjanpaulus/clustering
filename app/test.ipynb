{
 "cells": [
  {
   "cell_type": "markdown",
   "metadata": {},
   "source": [
    "# Test"
   ]
  },
  {
   "cell_type": "code",
   "execution_count": 6,
   "metadata": {},
   "outputs": [],
   "source": [
    "import numpy as np\n",
    "import pandas as pd\n",
    "import utils"
   ]
  },
  {
   "cell_type": "code",
   "execution_count": 11,
   "metadata": {},
   "outputs": [],
   "source": [
    "corpus = utils.text_cleaning(pd.read_csv(\"../corpora/german_poems.csv\"))"
   ]
  },
  {
   "cell_type": "code",
   "execution_count": 12,
   "metadata": {},
   "outputs": [
    {
     "data": {
      "text/html": [
       "<div>\n",
       "<style scoped>\n",
       "    .dataframe tbody tr th:only-of-type {\n",
       "        vertical-align: middle;\n",
       "    }\n",
       "\n",
       "    .dataframe tbody tr th {\n",
       "        vertical-align: top;\n",
       "    }\n",
       "\n",
       "    .dataframe thead th {\n",
       "        text-align: right;\n",
       "    }\n",
       "</style>\n",
       "<table border=\"1\" class=\"dataframe\">\n",
       "  <thead>\n",
       "    <tr style=\"text-align: right;\">\n",
       "      <th></th>\n",
       "      <th>pid</th>\n",
       "      <th>filename</th>\n",
       "      <th>poet</th>\n",
       "      <th>title</th>\n",
       "      <th>year</th>\n",
       "      <th>poem</th>\n",
       "      <th>poemlength</th>\n",
       "    </tr>\n",
       "  </thead>\n",
       "  <tbody>\n",
       "    <tr>\n",
       "      <th>0</th>\n",
       "      <td>38237</td>\n",
       "      <td>Dahn, Felix_Ein Königsspiel_1873</td>\n",
       "      <td>Dahn, Felix</td>\n",
       "      <td>Ein Königsspiel</td>\n",
       "      <td>1873</td>\n",
       "      <td>Saß der König Artaxerxes In dem goldnen Haus z...</td>\n",
       "      <td>594</td>\n",
       "    </tr>\n",
       "    <tr>\n",
       "      <th>1</th>\n",
       "      <td>25612</td>\n",
       "      <td>Tieck, Ludwig_[So wie ein Weiser schloß er sei...</td>\n",
       "      <td>Tieck, Ludwig</td>\n",
       "      <td>[So wie ein Weiser schloß er seinen Lauf]</td>\n",
       "      <td>1813</td>\n",
       "      <td>So wie ein Weiser schloß er seinen Lauf, Wohlt...</td>\n",
       "      <td>113</td>\n",
       "    </tr>\n",
       "    <tr>\n",
       "      <th>2</th>\n",
       "      <td>61526</td>\n",
       "      <td>Rückert, Friedrich_UNTITLED_1837</td>\n",
       "      <td>Rückert, Friedrich</td>\n",
       "      <td>UNTITLED</td>\n",
       "      <td>1837</td>\n",
       "      <td>Bei einem Lehrer ist von Schuelern eine Gilde,...</td>\n",
       "      <td>287</td>\n",
       "    </tr>\n",
       "  </tbody>\n",
       "</table>\n",
       "</div>"
      ],
      "text/plain": [
       "     pid                                           filename  \\\n",
       "0  38237                   Dahn, Felix_Ein Königsspiel_1873   \n",
       "1  25612  Tieck, Ludwig_[So wie ein Weiser schloß er sei...   \n",
       "2  61526                   Rückert, Friedrich_UNTITLED_1837   \n",
       "\n",
       "                 poet                                      title  year  \\\n",
       "0         Dahn, Felix                            Ein Königsspiel  1873   \n",
       "1       Tieck, Ludwig  [So wie ein Weiser schloß er seinen Lauf]  1813   \n",
       "2  Rückert, Friedrich                                   UNTITLED  1837   \n",
       "\n",
       "                                                poem  poemlength  \n",
       "0  Saß der König Artaxerxes In dem goldnen Haus z...         594  \n",
       "1  So wie ein Weiser schloß er seinen Lauf, Wohlt...         113  \n",
       "2  Bei einem Lehrer ist von Schuelern eine Gilde,...         287  "
      ]
     },
     "execution_count": 12,
     "metadata": {},
     "output_type": "execute_result"
    }
   ],
   "source": [
    "corpus.head(3)"
   ]
  },
  {
   "cell_type": "code",
   "execution_count": 10,
   "metadata": {},
   "outputs": [
    {
     "data": {
      "text/html": [
       "<div>\n",
       "<style scoped>\n",
       "    .dataframe tbody tr th:only-of-type {\n",
       "        vertical-align: middle;\n",
       "    }\n",
       "\n",
       "    .dataframe tbody tr th {\n",
       "        vertical-align: top;\n",
       "    }\n",
       "\n",
       "    .dataframe thead th {\n",
       "        text-align: right;\n",
       "    }\n",
       "</style>\n",
       "<table border=\"1\" class=\"dataframe\">\n",
       "  <thead>\n",
       "    <tr style=\"text-align: right;\">\n",
       "      <th></th>\n",
       "      <th>pid</th>\n",
       "      <th>filename</th>\n",
       "      <th>poet</th>\n",
       "      <th>title</th>\n",
       "      <th>year</th>\n",
       "      <th>poem</th>\n",
       "      <th>poemlength</th>\n",
       "    </tr>\n",
       "  </thead>\n",
       "  <tbody>\n",
       "    <tr>\n",
       "      <th>0</th>\n",
       "      <td>38237</td>\n",
       "      <td>Dahn, Felix_Ein Königsspiel_1873</td>\n",
       "      <td>Dahn, Felix</td>\n",
       "      <td>Ein Königsspiel</td>\n",
       "      <td>1873</td>\n",
       "      <td>Saß der König Artaxerxes In dem goldnen Haus z...</td>\n",
       "      <td>594</td>\n",
       "    </tr>\n",
       "    <tr>\n",
       "      <th>1</th>\n",
       "      <td>25612</td>\n",
       "      <td>Tieck, Ludwig_[So wie ein Weiser schloß er sei...</td>\n",
       "      <td>Tieck, Ludwig</td>\n",
       "      <td>[So wie ein Weiser schloß er seinen Lauf]</td>\n",
       "      <td>1813</td>\n",
       "      <td>So wie ein Weiser schloß er seinen Lauf, Wohlt...</td>\n",
       "      <td>113</td>\n",
       "    </tr>\n",
       "    <tr>\n",
       "      <th>2</th>\n",
       "      <td>61526</td>\n",
       "      <td>Rückert, Friedrich_UNTITLED_1837</td>\n",
       "      <td>Rückert, Friedrich</td>\n",
       "      <td>UNTITLED</td>\n",
       "      <td>1837</td>\n",
       "      <td>Bei einem Lehrer ist von Schuelern eine Gilde,...</td>\n",
       "      <td>287</td>\n",
       "    </tr>\n",
       "  </tbody>\n",
       "</table>\n",
       "</div>"
      ],
      "text/plain": [
       "     pid                                           filename  \\\n",
       "0  38237                   Dahn, Felix_Ein Königsspiel_1873   \n",
       "1  25612  Tieck, Ludwig_[So wie ein Weiser schloß er sei...   \n",
       "2  61526                   Rückert, Friedrich_UNTITLED_1837   \n",
       "\n",
       "                 poet                                      title  year  \\\n",
       "0         Dahn, Felix                            Ein Königsspiel  1873   \n",
       "1       Tieck, Ludwig  [So wie ein Weiser schloß er seinen Lauf]  1813   \n",
       "2  Rückert, Friedrich                                   UNTITLED  1837   \n",
       "\n",
       "                                                poem  poemlength  \n",
       "0  Saß der König Artaxerxes In dem goldnen Haus z...         594  \n",
       "1  So wie ein Weiser schloß er seinen Lauf, Wohlt...         113  \n",
       "2  Bei einem Lehrer ist von Schuelern eine Gilde,...         287  "
      ]
     },
     "execution_count": 10,
     "metadata": {},
     "output_type": "execute_result"
    }
   ],
   "source": [
    "corpus2 = utils.text_cleaning(corpus)\n",
    "corpus2.head(3)"
   ]
  },
  {
   "cell_type": "markdown",
   "metadata": {},
   "source": [
    "# json with epoch splitting"
   ]
  },
  {
   "cell_type": "code",
   "execution_count": 13,
   "metadata": {},
   "outputs": [],
   "source": [
    "epochs = {\"random\": {\n",
    "            \"Barock\": {\"b\": 1600, \"e\": 1720},\n",
    "            \"Aufklärung\": {\"b\": 1720, \"e\": 1790},\n",
    "            \"Empfindsamkeit\": {\"b\": 1740, \"e\": 1790},\n",
    "            \"Sturm und Drang\": {\"b\": 1765, \"e\": 1790},\n",
    "            \"Klassik\": {\"b\": 1786, \"e\": 1882},\n",
    "            \"Romantik\": {\"b\": 1798, \"e\": 1835},\n",
    "            \"Biedermeier\": {\"b\": 1815, \"e\": 1848},\n",
    "            \"Vormärz_Junges Deutschland\": {\"b\": 1825, \"e\": 1848},\n",
    "            \"Realismus\": {\"b\": 1848, \"e\": 1890},\n",
    "            \"Naturalismus\": {\"b\": 1880, \"e\": 1900},\n",
    "            \"Moderne\": {\"b\": 1890, \"e\": 1920},\n",
    "            \"Expressionismus\": {\"b\": 1910, \"e\": 1925},\n",
    "            \"Avantgarde_Dadaismus\": {\"b\": 1915, \"e\": 1925},\n",
    "            \"Literatur der Weimarer Republik_Neue Sachlichkeit\": {\"b\": 1919, \"e\": 1932}},\n",
    "         \"brenner\": {\n",
    "            \"Barock\": {\"b\": 1600, \"e\": 1700},\n",
    "            \"Frühaufklärung\": {\"b\": 1700, \"e\": 1755},\n",
    "            \"Aufklärung\": {\"b\": 1755, \"e\": 1810},\n",
    "            \"Klassik_Romantik\": {\"b\": 1786, \"e\": 1832},\n",
    "            \"Biedermeier\": {\"b\": 1815, \"e\": 1848},\n",
    "            \"Realismus\": {\"b\": 1848, \"e\": 1900},\n",
    "            \"Moderne\": {\"b\": 1880, \"e\": 1918},\n",
    "            \"Weimarer Republik\": {\"b\": 1918, \"e\": 1933}\n",
    "         }}"
   ]
  },
  {
   "cell_type": "code",
   "execution_count": 38,
   "metadata": {},
   "outputs": [],
   "source": [
    "import json\n",
    "\n",
    "with open(\"epochs.json\") as f:\n",
    "    d = json.loads(f.read())\n",
    "epochs = d[\"brenner\"]"
   ]
  },
  {
   "cell_type": "code",
   "execution_count": 39,
   "metadata": {},
   "outputs": [],
   "source": [
    "epochs_d = epochs.copy()"
   ]
  },
  {
   "cell_type": "code",
   "execution_count": 40,
   "metadata": {},
   "outputs": [],
   "source": [
    "del epochs[\"Klassik_Romantik\"]"
   ]
  },
  {
   "cell_type": "code",
   "execution_count": 41,
   "metadata": {},
   "outputs": [
    {
     "data": {
      "text/plain": [
       "{'Barock': {'b': 1600, 'e': 1700},\n",
       " 'Frühaufklärung': {'b': 1700, 'e': 1755},\n",
       " 'Aufklärung': {'b': 1755, 'e': 1810},\n",
       " 'Klassik_Romantik': {'b': 1786, 'e': 1832},\n",
       " 'Biedermeier': {'b': 1815, 'e': 1848},\n",
       " 'Realismus': {'b': 1848, 'e': 1900},\n",
       " 'Moderne': {'b': 1880, 'e': 1918},\n",
       " 'Weimarer Republik': {'b': 1918, 'e': 1933}}"
      ]
     },
     "execution_count": 41,
     "metadata": {},
     "output_type": "execute_result"
    }
   ],
   "source": [
    "epochs_d"
   ]
  },
  {
   "cell_type": "code",
   "execution_count": 47,
   "metadata": {},
   "outputs": [],
   "source": [
    "def add_epoch_division(corpus, epochs, epoch_exception=\"\"):\n",
    "    \"\"\" Divide poems in DataFrame into epochs by dictionary.\n",
    "    \"\"\"\n",
    "    df = corpus.copy()\n",
    "    epochs_d = {}\n",
    "    \n",
    "    for epoch, v in epochs.items():\n",
    "        if epoch != epoch_exception:\n",
    "            epochs_d[epoch] = list(range(epochs[epoch][\"b\"], epochs[epoch][\"e\"] + 1))\n",
    "    \n",
    "    df[\"epoch\"] = df.apply(lambda row: utils.get_epoch(row.year, epochs_d), axis=1)\n",
    "    return df"
   ]
  },
  {
   "cell_type": "code",
   "execution_count": 48,
   "metadata": {},
   "outputs": [],
   "source": [
    "c2 = add_epoch_division(corpus, epochs_d, epoch_exception=\"Klassik_Romantik\")"
   ]
  },
  {
   "cell_type": "code",
   "execution_count": 57,
   "metadata": {},
   "outputs": [
    {
     "data": {
      "text/plain": [
       "''"
      ]
     },
     "execution_count": 57,
     "metadata": {},
     "output_type": "execute_result"
    }
   ],
   "source": [
    "c2[c2.pid == 25612].epoch[1]"
   ]
  },
  {
   "cell_type": "code",
   "execution_count": 18,
   "metadata": {},
   "outputs": [
    {
     "ename": "AttributeError",
     "evalue": "module 'pandas' has no attribute 'read_dict'",
     "output_type": "error",
     "traceback": [
      "\u001b[0;31m---------------------------------------------------------------------------\u001b[0m",
      "\u001b[0;31mAttributeError\u001b[0m                            Traceback (most recent call last)",
      "\u001b[0;32m<ipython-input-18-3665575a72b7>\u001b[0m in \u001b[0;36m<module>\u001b[0;34m\u001b[0m\n\u001b[0;32m----> 1\u001b[0;31m \u001b[0mpd\u001b[0m\u001b[0;34m.\u001b[0m\u001b[0mread_dict\u001b[0m\u001b[0;34m(\u001b[0m\u001b[0;34m\"epochs.json\"\u001b[0m\u001b[0;34m)\u001b[0m\u001b[0;34m\u001b[0m\u001b[0;34m\u001b[0m\u001b[0m\n\u001b[0m",
      "\u001b[0;32m~/anaconda3/lib/python3.7/site-packages/pandas/__init__.py\u001b[0m in \u001b[0;36m__getattr__\u001b[0;34m(name)\u001b[0m\n\u001b[1;32m    261\u001b[0m             \u001b[0;32mreturn\u001b[0m \u001b[0m_SparseArray\u001b[0m\u001b[0;34m\u001b[0m\u001b[0;34m\u001b[0m\u001b[0m\n\u001b[1;32m    262\u001b[0m \u001b[0;34m\u001b[0m\u001b[0m\n\u001b[0;32m--> 263\u001b[0;31m         \u001b[0;32mraise\u001b[0m \u001b[0mAttributeError\u001b[0m\u001b[0;34m(\u001b[0m\u001b[0;34mf\"module 'pandas' has no attribute '{name}'\"\u001b[0m\u001b[0;34m)\u001b[0m\u001b[0;34m\u001b[0m\u001b[0;34m\u001b[0m\u001b[0m\n\u001b[0m\u001b[1;32m    264\u001b[0m \u001b[0;34m\u001b[0m\u001b[0m\n\u001b[1;32m    265\u001b[0m \u001b[0;34m\u001b[0m\u001b[0m\n",
      "\u001b[0;31mAttributeError\u001b[0m: module 'pandas' has no attribute 'read_dict'"
     ]
    }
   ],
   "source": [
    "pd.read_json(\"epochs.json\")"
   ]
  },
  {
   "cell_type": "code",
   "execution_count": null,
   "metadata": {},
   "outputs": [],
   "source": []
  }
 ],
 "metadata": {
  "kernelspec": {
   "display_name": "Python 3",
   "language": "python",
   "name": "python3"
  },
  "language_info": {
   "codemirror_mode": {
    "name": "ipython",
    "version": 3
   },
   "file_extension": ".py",
   "mimetype": "text/x-python",
   "name": "python",
   "nbconvert_exporter": "python",
   "pygments_lexer": "ipython3",
   "version": "3.7.7"
  }
 },
 "nbformat": 4,
 "nbformat_minor": 4
}
