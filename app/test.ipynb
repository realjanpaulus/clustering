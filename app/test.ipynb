{
 "cells": [
  {
   "cell_type": "markdown",
   "metadata": {},
   "source": [
    "# Test"
   ]
  },
  {
   "cell_type": "code",
   "execution_count": 5,
   "metadata": {},
   "outputs": [
    {
     "name": "stderr",
     "output_type": "stream",
     "text": [
      "/Users/jan/anaconda3/lib/python3.7/site-packages/sklearn/utils/deprecation.py:144: FutureWarning: The sklearn.metrics.classification module is  deprecated in version 0.22 and will be removed in version 0.24. The corresponding classes / functions should instead be imported from sklearn.metrics. Anything that cannot be imported from sklearn.metrics is now part of the private API.\n",
      "  warnings.warn(message, FutureWarning)\n"
     ]
    }
   ],
   "source": [
    "import json\n",
    "import matplotlib.pyplot as plt\n",
    "%matplotlib inline\n",
    "%config InlineBackend.figure_format = 'svg'\n",
    "from matplotlib.axes._axes import _log as matplotlib_axes_logger\n",
    "matplotlib_axes_logger.setLevel('ERROR')\n",
    "import numpy as np\n",
    "import pandas as pd\n",
    "import re\n",
    "from scipy.spatial.distance import pdist\n",
    "from scipy.cluster.hierarchy import cophenet, dendrogram, linkage\n",
    "from stop_words import get_stop_words\n",
    "import seaborn as sns\n",
    "\n",
    "from sklearn.cluster import AgglomerativeClustering, DBSCAN, KMeans\n",
    "from sklearn.decomposition import PCA, TruncatedSVD\n",
    "from sklearn.feature_extraction.text import TfidfVectorizer\n",
    "from sklearn.metrics import adjusted_rand_score, v_measure_score\n",
    "from sklearn.pipeline import make_pipeline\n",
    "from sklearn.preprocessing import LabelEncoder, Normalizer\n",
    "\n",
    "from yellowbrick.text import UMAPVisualizer\n",
    "from yellowbrick.style import set_palette\n",
    "\n",
    "from utils import add_epoch_division, linkage_matrix, merge_corpus_poets, plot_dendrogram, remove_noise_poet, text_cleaning"
   ]
  },
  {
   "cell_type": "code",
   "execution_count": 6,
   "metadata": {},
   "outputs": [],
   "source": [
    "LOWERCASE = True\n",
    "MAX_FEATURES = 10000\n",
    "STOP_WORDS = get_stop_words(\"de\")"
   ]
  },
  {
   "cell_type": "code",
   "execution_count": 4,
   "metadata": {},
   "outputs": [],
   "source": [
    "import numpy as np\n",
    "import pandas as pd\n",
    "import utils\n",
    "\n",
    "from sklearn.decomposition import LatentDirichletAllocation"
   ]
  },
  {
   "cell_type": "code",
   "execution_count": 3,
   "metadata": {},
   "outputs": [],
   "source": [
    "corpus = pd.read_csv(\"../corpora/amann_poems.csv\")"
   ]
  },
  {
   "cell_type": "code",
   "execution_count": 7,
   "metadata": {},
   "outputs": [],
   "source": [
    "text = corpus[\"poem\"].values\n",
    "labels = LabelEncoder().fit_transform(corpus[\"epoch\"].values)\n",
    "unique_epochs = list(np.unique(corpus[\"epoch\"]))\n",
    "\n",
    "\n",
    "vectorizer = TfidfVectorizer(max_df=0.5,\n",
    "                             lowercase=LOWERCASE,\n",
    "                             max_features=MAX_FEATURES,\n",
    "                             stop_words=STOP_WORDS)\n",
    "vector = vectorizer.fit_transform(text)"
   ]
  },
  {
   "cell_type": "code",
   "execution_count": 14,
   "metadata": {},
   "outputs": [
    {
     "data": {
      "text/plain": [
       "LatentDirichletAllocation(batch_size=128, doc_topic_prior=None,\n",
       "                          evaluate_every=-1, learning_decay=0.7,\n",
       "                          learning_method='batch', learning_offset=10.0,\n",
       "                          max_doc_update_iter=100, max_iter=10,\n",
       "                          mean_change_tol=0.001, n_components=3, n_jobs=None,\n",
       "                          perp_tol=0.1, random_state=0, topic_word_prior=None,\n",
       "                          total_samples=1000000.0, verbose=0)"
      ]
     },
     "execution_count": 14,
     "metadata": {},
     "output_type": "execute_result"
    }
   ],
   "source": [
    "lda = LatentDirichletAllocation(n_components=3, random_state=0)\n",
    "lda.fit(vector)"
   ]
  },
  {
   "cell_type": "code",
   "execution_count": 15,
   "metadata": {},
   "outputs": [
    {
     "name": "stdout",
     "output_type": "stream",
     "text": [
      "Top 15 words for Topic #0\n",
      "['seggt', 'heww', 'sick', 'vœr', 'hadd', 'ęr', 'weer', 'dor', 'dunn', 'vnd', 'sik', 'oll', 'vun', 'auß', 'auff']\n",
      "\n",
      "\n",
      "Top 15 words for Topic #1\n",
      "['tal', 'jhr', 'mut', 'rot', 'diß', 'muth', 'not', 'wol', 'hertz', 'auff', 'dieß', 'ew', 'itzt', 'tränen', 'sey']\n",
      "\n",
      "\n",
      "Top 15 words for Topic #2\n",
      "['wil', 'frewd', 'unnd', 'ewer', 'dier', 'drumb', 'vil', 'selbs', 'vmb', 'vns', 'dan', 'wan', 'auß', 'auff', 'vnd']\n",
      "\n",
      "\n"
     ]
    }
   ],
   "source": [
    "for index, topic in enumerate(lda.components_):\n",
    "    print(f'Top 15 words for Topic #{index}')\n",
    "    print([vectorizer.get_feature_names()[i] for i in topic.argsort()[-15:]])\n",
    "    print('\\n')"
   ]
  },
  {
   "cell_type": "code",
   "execution_count": 12,
   "metadata": {},
   "outputs": [
    {
     "data": {
      "text/html": [
       "<div>\n",
       "<style scoped>\n",
       "    .dataframe tbody tr th:only-of-type {\n",
       "        vertical-align: middle;\n",
       "    }\n",
       "\n",
       "    .dataframe tbody tr th {\n",
       "        vertical-align: top;\n",
       "    }\n",
       "\n",
       "    .dataframe thead th {\n",
       "        text-align: right;\n",
       "    }\n",
       "</style>\n",
       "<table border=\"1\" class=\"dataframe\">\n",
       "  <thead>\n",
       "    <tr style=\"text-align: right;\">\n",
       "      <th></th>\n",
       "      <th>pid</th>\n",
       "      <th>filename</th>\n",
       "      <th>poet</th>\n",
       "      <th>title</th>\n",
       "      <th>year</th>\n",
       "      <th>poem</th>\n",
       "      <th>poemlength</th>\n",
       "    </tr>\n",
       "  </thead>\n",
       "  <tbody>\n",
       "    <tr>\n",
       "      <th>0</th>\n",
       "      <td>38237</td>\n",
       "      <td>Dahn, Felix_Ein Königsspiel_1873</td>\n",
       "      <td>Dahn, Felix</td>\n",
       "      <td>Ein Königsspiel</td>\n",
       "      <td>1873</td>\n",
       "      <td>Saß der König Artaxerxes In dem goldnen Haus z...</td>\n",
       "      <td>594</td>\n",
       "    </tr>\n",
       "    <tr>\n",
       "      <th>1</th>\n",
       "      <td>25612</td>\n",
       "      <td>Tieck, Ludwig_[So wie ein Weiser schloß er sei...</td>\n",
       "      <td>Tieck, Ludwig</td>\n",
       "      <td>[So wie ein Weiser schloß er seinen Lauf]</td>\n",
       "      <td>1813</td>\n",
       "      <td>So wie ein Weiser schloß er seinen Lauf, Wohlt...</td>\n",
       "      <td>113</td>\n",
       "    </tr>\n",
       "    <tr>\n",
       "      <th>2</th>\n",
       "      <td>61526</td>\n",
       "      <td>Rückert, Friedrich_UNTITLED_1837</td>\n",
       "      <td>Rückert, Friedrich</td>\n",
       "      <td>UNTITLED</td>\n",
       "      <td>1837</td>\n",
       "      <td>Bei einem Lehrer ist von Schuelern eine Gilde,...</td>\n",
       "      <td>287</td>\n",
       "    </tr>\n",
       "  </tbody>\n",
       "</table>\n",
       "</div>"
      ],
      "text/plain": [
       "     pid                                           filename  \\\n",
       "0  38237                   Dahn, Felix_Ein Königsspiel_1873   \n",
       "1  25612  Tieck, Ludwig_[So wie ein Weiser schloß er sei...   \n",
       "2  61526                   Rückert, Friedrich_UNTITLED_1837   \n",
       "\n",
       "                 poet                                      title  year  \\\n",
       "0         Dahn, Felix                            Ein Königsspiel  1873   \n",
       "1       Tieck, Ludwig  [So wie ein Weiser schloß er seinen Lauf]  1813   \n",
       "2  Rückert, Friedrich                                   UNTITLED  1837   \n",
       "\n",
       "                                                poem  poemlength  \n",
       "0  Saß der König Artaxerxes In dem goldnen Haus z...         594  \n",
       "1  So wie ein Weiser schloß er seinen Lauf, Wohlt...         113  \n",
       "2  Bei einem Lehrer ist von Schuelern eine Gilde,...         287  "
      ]
     },
     "execution_count": 12,
     "metadata": {},
     "output_type": "execute_result"
    }
   ],
   "source": [
    "corpus.head(3)"
   ]
  },
  {
   "cell_type": "code",
   "execution_count": 10,
   "metadata": {},
   "outputs": [
    {
     "data": {
      "text/html": [
       "<div>\n",
       "<style scoped>\n",
       "    .dataframe tbody tr th:only-of-type {\n",
       "        vertical-align: middle;\n",
       "    }\n",
       "\n",
       "    .dataframe tbody tr th {\n",
       "        vertical-align: top;\n",
       "    }\n",
       "\n",
       "    .dataframe thead th {\n",
       "        text-align: right;\n",
       "    }\n",
       "</style>\n",
       "<table border=\"1\" class=\"dataframe\">\n",
       "  <thead>\n",
       "    <tr style=\"text-align: right;\">\n",
       "      <th></th>\n",
       "      <th>pid</th>\n",
       "      <th>filename</th>\n",
       "      <th>poet</th>\n",
       "      <th>title</th>\n",
       "      <th>year</th>\n",
       "      <th>poem</th>\n",
       "      <th>poemlength</th>\n",
       "    </tr>\n",
       "  </thead>\n",
       "  <tbody>\n",
       "    <tr>\n",
       "      <th>0</th>\n",
       "      <td>38237</td>\n",
       "      <td>Dahn, Felix_Ein Königsspiel_1873</td>\n",
       "      <td>Dahn, Felix</td>\n",
       "      <td>Ein Königsspiel</td>\n",
       "      <td>1873</td>\n",
       "      <td>Saß der König Artaxerxes In dem goldnen Haus z...</td>\n",
       "      <td>594</td>\n",
       "    </tr>\n",
       "    <tr>\n",
       "      <th>1</th>\n",
       "      <td>25612</td>\n",
       "      <td>Tieck, Ludwig_[So wie ein Weiser schloß er sei...</td>\n",
       "      <td>Tieck, Ludwig</td>\n",
       "      <td>[So wie ein Weiser schloß er seinen Lauf]</td>\n",
       "      <td>1813</td>\n",
       "      <td>So wie ein Weiser schloß er seinen Lauf, Wohlt...</td>\n",
       "      <td>113</td>\n",
       "    </tr>\n",
       "    <tr>\n",
       "      <th>2</th>\n",
       "      <td>61526</td>\n",
       "      <td>Rückert, Friedrich_UNTITLED_1837</td>\n",
       "      <td>Rückert, Friedrich</td>\n",
       "      <td>UNTITLED</td>\n",
       "      <td>1837</td>\n",
       "      <td>Bei einem Lehrer ist von Schuelern eine Gilde,...</td>\n",
       "      <td>287</td>\n",
       "    </tr>\n",
       "  </tbody>\n",
       "</table>\n",
       "</div>"
      ],
      "text/plain": [
       "     pid                                           filename  \\\n",
       "0  38237                   Dahn, Felix_Ein Königsspiel_1873   \n",
       "1  25612  Tieck, Ludwig_[So wie ein Weiser schloß er sei...   \n",
       "2  61526                   Rückert, Friedrich_UNTITLED_1837   \n",
       "\n",
       "                 poet                                      title  year  \\\n",
       "0         Dahn, Felix                            Ein Königsspiel  1873   \n",
       "1       Tieck, Ludwig  [So wie ein Weiser schloß er seinen Lauf]  1813   \n",
       "2  Rückert, Friedrich                                   UNTITLED  1837   \n",
       "\n",
       "                                                poem  poemlength  \n",
       "0  Saß der König Artaxerxes In dem goldnen Haus z...         594  \n",
       "1  So wie ein Weiser schloß er seinen Lauf, Wohlt...         113  \n",
       "2  Bei einem Lehrer ist von Schuelern eine Gilde,...         287  "
      ]
     },
     "execution_count": 10,
     "metadata": {},
     "output_type": "execute_result"
    }
   ],
   "source": [
    "corpus2 = utils.text_cleaning(corpus)\n",
    "corpus2.head(3)"
   ]
  },
  {
   "cell_type": "markdown",
   "metadata": {},
   "source": [
    "# json with epoch splitting"
   ]
  },
  {
   "cell_type": "code",
   "execution_count": 13,
   "metadata": {},
   "outputs": [],
   "source": [
    "epochs = {\"random\": {\n",
    "            \"Barock\": {\"b\": 1600, \"e\": 1720},\n",
    "            \"Aufklärung\": {\"b\": 1720, \"e\": 1790},\n",
    "            \"Empfindsamkeit\": {\"b\": 1740, \"e\": 1790},\n",
    "            \"Sturm und Drang\": {\"b\": 1765, \"e\": 1790},\n",
    "            \"Klassik\": {\"b\": 1786, \"e\": 1882},\n",
    "            \"Romantik\": {\"b\": 1798, \"e\": 1835},\n",
    "            \"Biedermeier\": {\"b\": 1815, \"e\": 1848},\n",
    "            \"Vormärz_Junges Deutschland\": {\"b\": 1825, \"e\": 1848},\n",
    "            \"Realismus\": {\"b\": 1848, \"e\": 1890},\n",
    "            \"Naturalismus\": {\"b\": 1880, \"e\": 1900},\n",
    "            \"Moderne\": {\"b\": 1890, \"e\": 1920},\n",
    "            \"Expressionismus\": {\"b\": 1910, \"e\": 1925},\n",
    "            \"Avantgarde_Dadaismus\": {\"b\": 1915, \"e\": 1925},\n",
    "            \"Literatur der Weimarer Republik_Neue Sachlichkeit\": {\"b\": 1919, \"e\": 1932}},\n",
    "         \"brenner\": {\n",
    "            \"Barock\": {\"b\": 1600, \"e\": 1700},\n",
    "            \"Frühaufklärung\": {\"b\": 1700, \"e\": 1755},\n",
    "            \"Aufklärung\": {\"b\": 1755, \"e\": 1810},\n",
    "            \"Klassik_Romantik\": {\"b\": 1786, \"e\": 1832},\n",
    "            \"Biedermeier\": {\"b\": 1815, \"e\": 1848},\n",
    "            \"Realismus\": {\"b\": 1848, \"e\": 1900},\n",
    "            \"Moderne\": {\"b\": 1880, \"e\": 1918},\n",
    "            \"Weimarer Republik\": {\"b\": 1918, \"e\": 1933}\n",
    "         }}"
   ]
  },
  {
   "cell_type": "code",
   "execution_count": 38,
   "metadata": {},
   "outputs": [],
   "source": [
    "import json\n",
    "\n",
    "with open(\"epochs.json\") as f:\n",
    "    d = json.loads(f.read())\n",
    "epochs = d[\"brenner\"]"
   ]
  },
  {
   "cell_type": "code",
   "execution_count": 39,
   "metadata": {},
   "outputs": [],
   "source": [
    "epochs_d = epochs.copy()"
   ]
  },
  {
   "cell_type": "code",
   "execution_count": 40,
   "metadata": {},
   "outputs": [],
   "source": [
    "del epochs[\"Klassik_Romantik\"]"
   ]
  },
  {
   "cell_type": "code",
   "execution_count": 41,
   "metadata": {},
   "outputs": [
    {
     "data": {
      "text/plain": [
       "{'Barock': {'b': 1600, 'e': 1700},\n",
       " 'Frühaufklärung': {'b': 1700, 'e': 1755},\n",
       " 'Aufklärung': {'b': 1755, 'e': 1810},\n",
       " 'Klassik_Romantik': {'b': 1786, 'e': 1832},\n",
       " 'Biedermeier': {'b': 1815, 'e': 1848},\n",
       " 'Realismus': {'b': 1848, 'e': 1900},\n",
       " 'Moderne': {'b': 1880, 'e': 1918},\n",
       " 'Weimarer Republik': {'b': 1918, 'e': 1933}}"
      ]
     },
     "execution_count": 41,
     "metadata": {},
     "output_type": "execute_result"
    }
   ],
   "source": [
    "epochs_d"
   ]
  },
  {
   "cell_type": "code",
   "execution_count": 47,
   "metadata": {},
   "outputs": [],
   "source": [
    "def add_epoch_division(corpus, epochs, epoch_exception=\"\"):\n",
    "    \"\"\" Divide poems in DataFrame into epochs by dictionary.\n",
    "    \"\"\"\n",
    "    df = corpus.copy()\n",
    "    epochs_d = {}\n",
    "    \n",
    "    for epoch, v in epochs.items():\n",
    "        if epoch != epoch_exception:\n",
    "            epochs_d[epoch] = list(range(epochs[epoch][\"b\"], epochs[epoch][\"e\"] + 1))\n",
    "    \n",
    "    df[\"epoch\"] = df.apply(lambda row: utils.get_epoch(row.year, epochs_d), axis=1)\n",
    "    return df"
   ]
  },
  {
   "cell_type": "code",
   "execution_count": 48,
   "metadata": {},
   "outputs": [],
   "source": [
    "c2 = add_epoch_division(corpus, epochs_d, epoch_exception=\"Klassik_Romantik\")"
   ]
  },
  {
   "cell_type": "code",
   "execution_count": 57,
   "metadata": {},
   "outputs": [
    {
     "data": {
      "text/plain": [
       "''"
      ]
     },
     "execution_count": 57,
     "metadata": {},
     "output_type": "execute_result"
    }
   ],
   "source": [
    "c2[c2.pid == 25612].epoch[1]"
   ]
  },
  {
   "cell_type": "code",
   "execution_count": 18,
   "metadata": {
    "collapsed": true
   },
   "outputs": [
    {
     "ename": "AttributeError",
     "evalue": "module 'pandas' has no attribute 'read_dict'",
     "output_type": "error",
     "traceback": [
      "\u001b[0;31m---------------------------------------------------------------------------\u001b[0m",
      "\u001b[0;31mAttributeError\u001b[0m                            Traceback (most recent call last)",
      "\u001b[0;32m<ipython-input-18-3665575a72b7>\u001b[0m in \u001b[0;36m<module>\u001b[0;34m\u001b[0m\n\u001b[0;32m----> 1\u001b[0;31m \u001b[0mpd\u001b[0m\u001b[0;34m.\u001b[0m\u001b[0mread_dict\u001b[0m\u001b[0;34m(\u001b[0m\u001b[0;34m\"epochs.json\"\u001b[0m\u001b[0;34m)\u001b[0m\u001b[0;34m\u001b[0m\u001b[0;34m\u001b[0m\u001b[0m\n\u001b[0m",
      "\u001b[0;32m~/anaconda3/lib/python3.7/site-packages/pandas/__init__.py\u001b[0m in \u001b[0;36m__getattr__\u001b[0;34m(name)\u001b[0m\n\u001b[1;32m    261\u001b[0m             \u001b[0;32mreturn\u001b[0m \u001b[0m_SparseArray\u001b[0m\u001b[0;34m\u001b[0m\u001b[0;34m\u001b[0m\u001b[0m\n\u001b[1;32m    262\u001b[0m \u001b[0;34m\u001b[0m\u001b[0m\n\u001b[0;32m--> 263\u001b[0;31m         \u001b[0;32mraise\u001b[0m \u001b[0mAttributeError\u001b[0m\u001b[0;34m(\u001b[0m\u001b[0;34mf\"module 'pandas' has no attribute '{name}'\"\u001b[0m\u001b[0;34m)\u001b[0m\u001b[0;34m\u001b[0m\u001b[0;34m\u001b[0m\u001b[0m\n\u001b[0m\u001b[1;32m    264\u001b[0m \u001b[0;34m\u001b[0m\u001b[0m\n\u001b[1;32m    265\u001b[0m \u001b[0;34m\u001b[0m\u001b[0m\n",
      "\u001b[0;31mAttributeError\u001b[0m: module 'pandas' has no attribute 'read_dict'"
     ]
    }
   ],
   "source": [
    "pd.read_json(\"epochs.json\")"
   ]
  },
  {
   "cell_type": "code",
   "execution_count": 3,
   "metadata": {},
   "outputs": [],
   "source": [
    "from itertools import combinations, product"
   ]
  },
  {
   "cell_type": "code",
   "execution_count": 9,
   "metadata": {},
   "outputs": [],
   "source": [
    "eps_search = [0.1, 0.3, 0.5, 0.7, 0.9, 1.0]\n",
    "min_samples = [2, 3, 4, 5]\n",
    "metrics = [\"cosine\", \"euclidean\"]"
   ]
  },
  {
   "cell_type": "code",
   "execution_count": 10,
   "metadata": {},
   "outputs": [],
   "source": [
    "cartesian_inputs = list(product(eps_search, min_samples, metrics))"
   ]
  },
  {
   "cell_type": "code",
   "execution_count": 13,
   "metadata": {},
   "outputs": [
    {
     "data": {
      "text/plain": [
       "[(0.1, 2, 'cosine'),\n",
       " (0.1, 2, 'euclidean'),\n",
       " (0.1, 3, 'cosine'),\n",
       " (0.1, 3, 'euclidean'),\n",
       " (0.1, 4, 'cosine'),\n",
       " (0.1, 4, 'euclidean'),\n",
       " (0.1, 5, 'cosine'),\n",
       " (0.1, 5, 'euclidean'),\n",
       " (0.3, 2, 'cosine'),\n",
       " (0.3, 2, 'euclidean'),\n",
       " (0.3, 3, 'cosine'),\n",
       " (0.3, 3, 'euclidean'),\n",
       " (0.3, 4, 'cosine'),\n",
       " (0.3, 4, 'euclidean'),\n",
       " (0.3, 5, 'cosine'),\n",
       " (0.3, 5, 'euclidean'),\n",
       " (0.5, 2, 'cosine'),\n",
       " (0.5, 2, 'euclidean'),\n",
       " (0.5, 3, 'cosine'),\n",
       " (0.5, 3, 'euclidean'),\n",
       " (0.5, 4, 'cosine'),\n",
       " (0.5, 4, 'euclidean'),\n",
       " (0.5, 5, 'cosine'),\n",
       " (0.5, 5, 'euclidean'),\n",
       " (0.7, 2, 'cosine'),\n",
       " (0.7, 2, 'euclidean'),\n",
       " (0.7, 3, 'cosine'),\n",
       " (0.7, 3, 'euclidean'),\n",
       " (0.7, 4, 'cosine'),\n",
       " (0.7, 4, 'euclidean'),\n",
       " (0.7, 5, 'cosine'),\n",
       " (0.7, 5, 'euclidean'),\n",
       " (0.9, 2, 'cosine'),\n",
       " (0.9, 2, 'euclidean'),\n",
       " (0.9, 3, 'cosine'),\n",
       " (0.9, 3, 'euclidean'),\n",
       " (0.9, 4, 'cosine'),\n",
       " (0.9, 4, 'euclidean'),\n",
       " (0.9, 5, 'cosine'),\n",
       " (0.9, 5, 'euclidean'),\n",
       " (1.0, 2, 'cosine'),\n",
       " (1.0, 2, 'euclidean'),\n",
       " (1.0, 3, 'cosine'),\n",
       " (1.0, 3, 'euclidean'),\n",
       " (1.0, 4, 'cosine'),\n",
       " (1.0, 4, 'euclidean'),\n",
       " (1.0, 5, 'cosine'),\n",
       " (1.0, 5, 'euclidean')]"
      ]
     },
     "execution_count": 13,
     "metadata": {},
     "output_type": "execute_result"
    }
   ],
   "source": [
    "cartesian_inputs"
   ]
  },
  {
   "cell_type": "code",
   "execution_count": null,
   "metadata": {},
   "outputs": [],
   "source": []
  }
 ],
 "metadata": {
  "kernelspec": {
   "display_name": "Python 3",
   "language": "python",
   "name": "python3"
  },
  "language_info": {
   "codemirror_mode": {
    "name": "ipython",
    "version": 3
   },
   "file_extension": ".py",
   "mimetype": "text/x-python",
   "name": "python",
   "nbconvert_exporter": "python",
   "pygments_lexer": "ipython3",
   "version": "3.7.7"
  }
 },
 "nbformat": 4,
 "nbformat_minor": 4
}
