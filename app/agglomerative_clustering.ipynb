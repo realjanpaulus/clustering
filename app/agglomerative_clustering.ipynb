{
 "cells": [
  {
   "cell_type": "markdown",
   "metadata": {},
   "source": [
    "# Agglomerative Clustering"
   ]
  },
  {
   "cell_type": "code",
   "execution_count": 1,
   "metadata": {},
   "outputs": [],
   "source": [
    "import matplotlib.pyplot as plt\n",
    "%matplotlib inline\n",
    "%config InlineBackend.figure_format = 'svg'\n",
    "import numpy as np\n",
    "import pandas as pd\n",
    "from scipy.spatial.distance import pdist\n",
    "from scipy.cluster.hierarchy import cophenet, dendrogram, linkage\n",
    "from stop_words import get_stop_words\n",
    "import seaborn as sns\n",
    "\n",
    "from sklearn.cluster import AgglomerativeClustering\n",
    "from sklearn.decomposition import PCA, TruncatedSVD\n",
    "from sklearn.feature_extraction.text import TfidfVectorizer\n",
    "from sklearn.metrics import adjusted_rand_score\n",
    "from sklearn.preprocessing import LabelEncoder\n",
    "\n",
    "from utils import add_epoch_division, linkage_matrix, plot_dendrogram, remove_noise_poet, text_cleaning"
   ]
  },
  {
   "cell_type": "code",
   "execution_count": 2,
   "metadata": {},
   "outputs": [],
   "source": [
    "corpus = text_cleaning(pd.read_csv(\"../corpora/german_poems.csv\"))"
   ]
  },
  {
   "cell_type": "code",
   "execution_count": 3,
   "metadata": {},
   "outputs": [],
   "source": [
    "LOWERCASE = True\n",
    "MAX_FEATURES = 10000\n",
    "STOP_WORDS = get_stop_words(\"de\")"
   ]
  },
  {
   "cell_type": "code",
   "execution_count": 4,
   "metadata": {},
   "outputs": [],
   "source": [
    "# reduce corpus\n",
    "epochs = {\"Frühaufklärung\": {\"b\": 1700, \"e\": 1755},\n",
    "          \"Realismus\": {\"b\": 1848, \"e\": 1900}\n",
    "         }\n",
    "corpus = add_epoch_division(corpus, epochs, epoch_exception=\"\")\n",
    "\n",
    "epoch1 = \"Frühaufklärung\"\n",
    "epoch2 = \"Realismus\"\n",
    "corpus = corpus[(corpus.epoch == epoch1) | (corpus.epoch == epoch2)]"
   ]
  },
  {
   "cell_type": "code",
   "execution_count": 5,
   "metadata": {},
   "outputs": [],
   "source": [
    "#corpus = corpus.sample(10000)"
   ]
  },
  {
   "cell_type": "code",
   "execution_count": 5,
   "metadata": {},
   "outputs": [],
   "source": [
    "vectorizer = TfidfVectorizer(max_df=0.5,\n",
    "                             lowercase=LOWERCASE,\n",
    "                             max_features=MAX_FEATURES,\n",
    "                             stop_words=STOP_WORDS)\n",
    "features = vectorizer.fit_transform(corpus[\"poem\"])\n",
    "\n",
    "text = corpus[\"poem\"]\n",
    "classes = [c[0] for c in corpus[\"epoch\"].values]\n",
    "pids = [p for p in corpus[\"pid\"].values]"
   ]
  },
  {
   "cell_type": "markdown",
   "metadata": {},
   "source": [
    "## Clustering"
   ]
  },
  {
   "cell_type": "code",
   "execution_count": 77,
   "metadata": {},
   "outputs": [],
   "source": [
    "pca = PCA(n_components=2)\n",
    "X_red = pca.fit_transform(features.toarray())"
   ]
  },
  {
   "cell_type": "code",
   "execution_count": 78,
   "metadata": {},
   "outputs": [
    {
     "name": "stdout",
     "output_type": "stream",
     "text": [
      "CPU times: user 13.6 s, sys: 1.11 s, total: 14.7 s\n",
      "Wall time: 16 s\n"
     ]
    }
   ],
   "source": [
    "%%time\n",
    "agcl = AgglomerativeClustering(n_clusters=None, distance_threshold=0)\n",
    "model = agcl.fit(X_red)"
   ]
  },
  {
   "cell_type": "code",
   "execution_count": 79,
   "metadata": {},
   "outputs": [],
   "source": [
    "def get_font_size(p):\n",
    "    font_size = 20-p\n",
    "    if font_size < 4:\n",
    "        font_size = 4\n",
    "    return font_size    "
   ]
  },
  {
   "cell_type": "code",
   "execution_count": 87,
   "metadata": {},
   "outputs": [],
   "source": [
    "p = 4\n",
    "cluster_labels = pids\n",
    "\n",
    "l = dendrogram(linkage_matrix(model), \n",
    "               p=p, \n",
    "               truncate_mode='level', \n",
    "               labels=cluster_labels, \n",
    "               orientation=\"left\",\n",
    "               leaf_font_size=get_font_size(p),\n",
    "               no_plot=True,\n",
    "               show_leaf_counts=False,\n",
    "               show_contracted=False,\n",
    "               get_leaves=True)\n",
    "plt.show()"
   ]
  },
  {
   "cell_type": "code",
   "execution_count": 93,
   "metadata": {},
   "outputs": [
    {
     "name": "stdout",
     "output_type": "stream",
     "text": [
      "1 \t 4\n",
      "2 \t 8\n",
      "3 \t 16\n",
      "4 \t 32\n",
      "5 \t 64\n",
      "6 \t 126\n",
      "7 \t 248\n",
      "8 \t 464\n",
      "9 \t 834\n",
      "10 \t 1443\n",
      "11 \t 2350\n",
      "12 \t 3640\n",
      "13 \t 5543\n",
      "14 \t 8182\n",
      "15 \t 11484\n",
      "16 \t 14680\n",
      "17 \t 16786\n",
      "18 \t 17599\n",
      "19 \t 17772\n"
     ]
    }
   ],
   "source": [
    "for i in range(1,20):\n",
    "\n",
    "    p = i\n",
    "    cluster_labels = pids\n",
    "\n",
    "    l = dendrogram(linkage_matrix(model), \n",
    "                   p=p, \n",
    "                   truncate_mode='level', \n",
    "                   labels=cluster_labels, \n",
    "                   orientation=\"left\",\n",
    "                   leaf_font_size=get_font_size(p),\n",
    "                   no_plot=True,\n",
    "                   show_leaf_counts=False,\n",
    "                   show_contracted=False,\n",
    "                   get_leaves=True)\n",
    "    \n",
    "    print(f\"{p} \\t {len(l['ivl'])}\")"
   ]
  },
  {
   "cell_type": "code",
   "execution_count": 118,
   "metadata": {},
   "outputs": [
    {
     "name": "stdout",
     "output_type": "stream",
     "text": [
      "17 \t 16786\n"
     ]
    }
   ],
   "source": [
    "p = 17\n",
    "cluster_labels = pids\n",
    "\n",
    "l = dendrogram(linkage_matrix(model), \n",
    "               p=p, \n",
    "               truncate_mode='level', \n",
    "               labels=cluster_labels, \n",
    "               orientation=\"left\",\n",
    "               leaf_font_size=get_font_size(p),\n",
    "               no_plot=True,\n",
    "               show_leaf_counts=False,\n",
    "               show_contracted=False,\n",
    "               get_leaves=True)\n",
    "\n",
    "print(f\"{p} \\t {len(l['ivl'])}\")"
   ]
  },
  {
   "cell_type": "code",
   "execution_count": null,
   "metadata": {},
   "outputs": [],
   "source": []
  },
  {
   "cell_type": "markdown",
   "metadata": {},
   "source": [
    "#### remove noise"
   ]
  },
  {
   "cell_type": "code",
   "execution_count": 119,
   "metadata": {},
   "outputs": [],
   "source": [
    "noise = [leaf for leaf in l[\"ivl\"] if leaf != \"\"]"
   ]
  },
  {
   "cell_type": "code",
   "execution_count": 107,
   "metadata": {},
   "outputs": [],
   "source": [
    "corpus_noiseless = remove_noise_poet(corpus, noise, min_n=20)"
   ]
  },
  {
   "cell_type": "code",
   "execution_count": 120,
   "metadata": {},
   "outputs": [],
   "source": [
    "corpus_noiseless = corpus[corpus.pid.isin(noise)]"
   ]
  },
  {
   "cell_type": "code",
   "execution_count": 121,
   "metadata": {},
   "outputs": [
    {
     "data": {
      "text/plain": [
       "(17796, 8)"
      ]
     },
     "execution_count": 121,
     "metadata": {},
     "output_type": "execute_result"
    }
   ],
   "source": [
    "corpus.shape"
   ]
  },
  {
   "cell_type": "code",
   "execution_count": 122,
   "metadata": {},
   "outputs": [
    {
     "data": {
      "text/plain": [
       "(15973, 8)"
      ]
     },
     "execution_count": 122,
     "metadata": {},
     "output_type": "execute_result"
    }
   ],
   "source": [
    "corpus_noiseless.shape"
   ]
  },
  {
   "cell_type": "code",
   "execution_count": 123,
   "metadata": {},
   "outputs": [],
   "source": [
    "corpus_noiseless.to_csv(\"../corpora/german_poems_noiseless.csv\", index=False)"
   ]
  },
  {
   "cell_type": "code",
   "execution_count": null,
   "metadata": {},
   "outputs": [],
   "source": []
  },
  {
   "cell_type": "code",
   "execution_count": 124,
   "metadata": {},
   "outputs": [
    {
     "name": "stdout",
     "output_type": "stream",
     "text": [
      "(17795, 2)\n"
     ]
    },
    {
     "data": {
      "text/plain": [
       "array([[   65,  7353],\n",
       "       [ 5728,  7522],\n",
       "       [ 8260, 17797],\n",
       "       ...,\n",
       "       [35586, 35587],\n",
       "       [35580, 35588],\n",
       "       [35585, 35589]])"
      ]
     },
     "execution_count": 124,
     "metadata": {},
     "output_type": "execute_result"
    }
   ],
   "source": [
    "print(model.children_.shape)\n",
    "model.children_[:]"
   ]
  },
  {
   "cell_type": "code",
   "execution_count": null,
   "metadata": {},
   "outputs": [],
   "source": []
  }
 ],
 "metadata": {
  "kernelspec": {
   "display_name": "Python 3",
   "language": "python",
   "name": "python3"
  },
  "language_info": {
   "codemirror_mode": {
    "name": "ipython",
    "version": 3
   },
   "file_extension": ".py",
   "mimetype": "text/x-python",
   "name": "python",
   "nbconvert_exporter": "python",
   "pygments_lexer": "ipython3",
   "version": "3.7.7"
  }
 },
 "nbformat": 4,
 "nbformat_minor": 4
}
