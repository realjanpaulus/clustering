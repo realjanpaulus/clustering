{
 "cells": [
  {
   "cell_type": "markdown",
   "metadata": {},
   "source": [
    "# Clustering evaluation"
   ]
  },
  {
   "cell_type": "code",
   "execution_count": 99,
   "metadata": {},
   "outputs": [],
   "source": [
    "from collections import Counter\n",
    "import json\n",
    "import numpy as np\n",
    "import pandas as pd\n",
    "\n",
    "from utils import generate_wordcloud\n",
    "from wordcloud import WordCloud"
   ]
  },
  {
   "cell_type": "code",
   "execution_count": 100,
   "metadata": {},
   "outputs": [],
   "source": [
    "DIR = \"amanns_experiments/\"\n",
    "\n",
    "RESULTS_PATH_KMEANS = f\"../results/{DIR}kmeans_results_amann.json\"\n",
    "RESULTS_PATH_DBSCAN = f\"../results/{DIR}dbscan_results_amann.json\"\n",
    "RESULTS_PATH_KMEDOIDS = f\"../results/{DIR}kmedoids_results_amann.json\"\n",
    "RESULTS_PATH_KMEANS_RD = f\"../results/{DIR}kmeans_results_amann_rd.json\"\n",
    "RESULTS_PATH_DBSCAN_RD = f\"../results/{DIR}dbscan_results_amann_rd.json\"\n",
    "RESULTS_PATH_KMEANS = f\"../results/{DIR}kmeans_results_amann.json\"\n",
    "RESULTS_PATH_KMEANS_NOISELESS = f\"../results/{DIR}kmeans_results_amann_noiseless.json\"\n",
    "MAX_ARI = 0.5\n",
    "MIN_ARI = -0.1"
   ]
  },
  {
   "cell_type": "markdown",
   "metadata": {},
   "source": [
    "### standard"
   ]
  },
  {
   "cell_type": "code",
   "execution_count": 101,
   "metadata": {},
   "outputs": [],
   "source": [
    "with open(RESULTS_PATH_KMEANS) as f:\n",
    "    kmeans = json.load(f)\n",
    "\n",
    "kmeans_scores = {}\n",
    "kmeans_top_words = {}\n",
    "\n",
    "for k,v in kmeans.items():\n",
    "    kmeans_scores[k] = v[\"scores\"]\n",
    "    kmeans_top_words[k] = v[\"tw\"]"
   ]
  },
  {
   "cell_type": "code",
   "execution_count": 47,
   "metadata": {},
   "outputs": [],
   "source": [
    "with open(RESULTS_PATH_DBSCAN) as f:\n",
    "    dbscan = json.load(f)\n",
    "    \n",
    "dbscan_scores = {}\n",
    "\n",
    "for k,v in dbscan.items():\n",
    "    dbscan_scores[k] = v[\"scores\"]"
   ]
  },
  {
   "cell_type": "code",
   "execution_count": 55,
   "metadata": {},
   "outputs": [],
   "source": [
    "with open(RESULTS_PATH_KMEDOIDS) as f:\n",
    "    kmedoids = json.load(f)\n",
    "    \n",
    "kmedoids_scores = {}\n",
    "\n",
    "for k,v in kmedoids.items():\n",
    "    kmedoids_scores[k] = v[\"scores\"]"
   ]
  },
  {
   "cell_type": "markdown",
   "metadata": {},
   "source": [
    "### reduced"
   ]
  },
  {
   "cell_type": "code",
   "execution_count": 43,
   "metadata": {},
   "outputs": [],
   "source": [
    "with open(RESULTS_PATH_KMEANS_RD) as f:\n",
    "    kmeans_rd = json.load(f)\n",
    "\n",
    "kmeans_rd_scores = {}\n",
    "kmeans_rd_top_words = {}\n",
    "\n",
    "for k,v in kmeans_rd.items():\n",
    "    kmeans_rd_scores[k] = v[\"scores\"]\n",
    "    kmeans_rd_top_words[k] = v[\"tw\"]"
   ]
  },
  {
   "cell_type": "code",
   "execution_count": 56,
   "metadata": {},
   "outputs": [],
   "source": [
    "with open(RESULTS_PATH_DBSCAN_RD) as f:\n",
    "    dbscan_rd = json.load(f)\n",
    "    \n",
    "dbscan_scores_rd = {}\n",
    "\n",
    "for k,v in dbscan_rd.items():\n",
    "    dbscan_scores_rd[k] = v[\"scores\"]"
   ]
  },
  {
   "cell_type": "markdown",
   "metadata": {},
   "source": [
    "### noiseless"
   ]
  },
  {
   "cell_type": "code",
   "execution_count": 44,
   "metadata": {},
   "outputs": [],
   "source": [
    "with open(RESULTS_PATH_KMEANS_NOISELESS) as f:\n",
    "    kmeans_noiseless = json.load(f)\n",
    "\n",
    "kmeans_noiseless_scores = {}\n",
    "kmeans_noiseless_top_words = {}\n",
    "\n",
    "for k,v in kmeans_noiseless.items():\n",
    "    kmeans_noiseless_scores[k] = v[\"scores\"]\n",
    "    kmeans_noiseless_top_words[k] = v[\"tw\"]"
   ]
  },
  {
   "cell_type": "markdown",
   "metadata": {},
   "source": [
    "### dfs"
   ]
  },
  {
   "cell_type": "code",
   "execution_count": 102,
   "metadata": {},
   "outputs": [],
   "source": [
    "kmeans_score_df = pd.DataFrame.from_dict(kmeans_scores, orient=\"index\").sort_values(\"ari\", ascending=False)\n",
    "kmeans_score_rd_df = pd.DataFrame.from_dict(kmeans_rd_scores, orient=\"index\").sort_values(\"ari\", ascending=False)\n",
    "kmeans_noiseless_score_df = pd.DataFrame.from_dict(kmeans_noiseless_scores, orient=\"index\").sort_values(\"ari\", ascending=False)"
   ]
  },
  {
   "cell_type": "code",
   "execution_count": 85,
   "metadata": {},
   "outputs": [],
   "source": [
    "dbscan_score_df = pd.DataFrame.from_dict(dbscan_scores, orient=\"index\").sort_values(\"ari\", ascending=False)\n",
    "dbscan_score_rd_df = pd.DataFrame.from_dict(dbscan_scores_rd, orient=\"index\").sort_values(\"ari\", ascending=False)"
   ]
  },
  {
   "cell_type": "code",
   "execution_count": 57,
   "metadata": {},
   "outputs": [],
   "source": [
    "kmedoids_score_df = pd.DataFrame.from_dict(kmedoids_scores, orient=\"index\").sort_values(\"ari\", ascending=False)"
   ]
  },
  {
   "cell_type": "markdown",
   "metadata": {},
   "source": [
    "## Best Epochs"
   ]
  },
  {
   "cell_type": "code",
   "execution_count": 126,
   "metadata": {},
   "outputs": [],
   "source": [
    "best_epochs = {}\n",
    "min_score = 0.7"
   ]
  },
  {
   "cell_type": "code",
   "execution_count": 127,
   "metadata": {},
   "outputs": [
    {
     "data": {
      "text/html": [
       "<div>\n",
       "<style scoped>\n",
       "    .dataframe tbody tr th:only-of-type {\n",
       "        vertical-align: middle;\n",
       "    }\n",
       "\n",
       "    .dataframe tbody tr th {\n",
       "        vertical-align: top;\n",
       "    }\n",
       "\n",
       "    .dataframe thead th {\n",
       "        text-align: right;\n",
       "    }\n",
       "</style>\n",
       "<table border=\"1\" class=\"dataframe\">\n",
       "  <thead>\n",
       "    <tr style=\"text-align: right;\">\n",
       "      <th></th>\n",
       "      <th>ari</th>\n",
       "      <th>vm</th>\n",
       "    </tr>\n",
       "  </thead>\n",
       "  <tbody>\n",
       "    <tr>\n",
       "      <th>Barock/Naturalismus</th>\n",
       "      <td>0.805490</td>\n",
       "      <td>0.746453</td>\n",
       "    </tr>\n",
       "    <tr>\n",
       "      <th>Barock/Realismus</th>\n",
       "      <td>0.773402</td>\n",
       "      <td>0.729663</td>\n",
       "    </tr>\n",
       "    <tr>\n",
       "      <th>Aufklärung/Naturalismus</th>\n",
       "      <td>0.745326</td>\n",
       "      <td>0.621077</td>\n",
       "    </tr>\n",
       "    <tr>\n",
       "      <th>Barock/Klassik</th>\n",
       "      <td>0.688026</td>\n",
       "      <td>0.651029</td>\n",
       "    </tr>\n",
       "    <tr>\n",
       "      <th>Barock/Aufklärung</th>\n",
       "      <td>0.541105</td>\n",
       "      <td>0.530550</td>\n",
       "    </tr>\n",
       "    <tr>\n",
       "      <th>Barock/Biedermeier</th>\n",
       "      <td>0.335736</td>\n",
       "      <td>0.423804</td>\n",
       "    </tr>\n",
       "    <tr>\n",
       "      <th>Aufklärung/Realismus</th>\n",
       "      <td>0.293688</td>\n",
       "      <td>0.394675</td>\n",
       "    </tr>\n",
       "  </tbody>\n",
       "</table>\n",
       "</div>"
      ],
      "text/plain": [
       "                              ari        vm\n",
       "Barock/Naturalismus      0.805490  0.746453\n",
       "Barock/Realismus         0.773402  0.729663\n",
       "Aufklärung/Naturalismus  0.745326  0.621077\n",
       "Barock/Klassik           0.688026  0.651029\n",
       "Barock/Aufklärung        0.541105  0.530550\n",
       "Barock/Biedermeier       0.335736  0.423804\n",
       "Aufklärung/Realismus     0.293688  0.394675"
      ]
     },
     "execution_count": 127,
     "metadata": {},
     "output_type": "execute_result"
    }
   ],
   "source": [
    "kmeans_best = list(kmeans_score_df[kmeans_score_df.ari >= min_score].index)\n",
    "best_epochs[\"kmeans\"] = kmeans_best\n",
    "kmeans_score_df.head(7)"
   ]
  },
  {
   "cell_type": "code",
   "execution_count": 128,
   "metadata": {},
   "outputs": [
    {
     "data": {
      "text/html": [
       "<div>\n",
       "<style scoped>\n",
       "    .dataframe tbody tr th:only-of-type {\n",
       "        vertical-align: middle;\n",
       "    }\n",
       "\n",
       "    .dataframe tbody tr th {\n",
       "        vertical-align: top;\n",
       "    }\n",
       "\n",
       "    .dataframe thead th {\n",
       "        text-align: right;\n",
       "    }\n",
       "</style>\n",
       "<table border=\"1\" class=\"dataframe\">\n",
       "  <thead>\n",
       "    <tr style=\"text-align: right;\">\n",
       "      <th></th>\n",
       "      <th>ari</th>\n",
       "      <th>vm</th>\n",
       "    </tr>\n",
       "  </thead>\n",
       "  <tbody>\n",
       "    <tr>\n",
       "      <th>Barock/Realismus</th>\n",
       "      <td>0.860581</td>\n",
       "      <td>0.811946</td>\n",
       "    </tr>\n",
       "    <tr>\n",
       "      <th>Barock/Klassik</th>\n",
       "      <td>0.836902</td>\n",
       "      <td>0.784668</td>\n",
       "    </tr>\n",
       "    <tr>\n",
       "      <th>Barock/Expressionismus</th>\n",
       "      <td>0.683957</td>\n",
       "      <td>0.610906</td>\n",
       "    </tr>\n",
       "    <tr>\n",
       "      <th>Barock/Naturalismus</th>\n",
       "      <td>0.632206</td>\n",
       "      <td>0.537986</td>\n",
       "    </tr>\n",
       "    <tr>\n",
       "      <th>Aufklärung/Realismus</th>\n",
       "      <td>0.550768</td>\n",
       "      <td>0.559927</td>\n",
       "    </tr>\n",
       "    <tr>\n",
       "      <th>Barock/Romantik</th>\n",
       "      <td>0.543027</td>\n",
       "      <td>0.498014</td>\n",
       "    </tr>\n",
       "    <tr>\n",
       "      <th>Barock/Aufklärung</th>\n",
       "      <td>0.430008</td>\n",
       "      <td>0.353975</td>\n",
       "    </tr>\n",
       "  </tbody>\n",
       "</table>\n",
       "</div>"
      ],
      "text/plain": [
       "                             ari        vm\n",
       "Barock/Realismus        0.860581  0.811946\n",
       "Barock/Klassik          0.836902  0.784668\n",
       "Barock/Expressionismus  0.683957  0.610906\n",
       "Barock/Naturalismus     0.632206  0.537986\n",
       "Aufklärung/Realismus    0.550768  0.559927\n",
       "Barock/Romantik         0.543027  0.498014\n",
       "Barock/Aufklärung       0.430008  0.353975"
      ]
     },
     "execution_count": 128,
     "metadata": {},
     "output_type": "execute_result"
    }
   ],
   "source": [
    "kmedoids_best = list(kmedoids_score_df[kmedoids_score_df.ari >= min_score].index)\n",
    "best_epochs[\"kmedoids\"] = kmedoids_best\n",
    "kmedoids_score_df.head(7)"
   ]
  },
  {
   "cell_type": "code",
   "execution_count": 129,
   "metadata": {},
   "outputs": [
    {
     "data": {
      "text/html": [
       "<div>\n",
       "<style scoped>\n",
       "    .dataframe tbody tr th:only-of-type {\n",
       "        vertical-align: middle;\n",
       "    }\n",
       "\n",
       "    .dataframe tbody tr th {\n",
       "        vertical-align: top;\n",
       "    }\n",
       "\n",
       "    .dataframe thead th {\n",
       "        text-align: right;\n",
       "    }\n",
       "</style>\n",
       "<table border=\"1\" class=\"dataframe\">\n",
       "  <thead>\n",
       "    <tr style=\"text-align: right;\">\n",
       "      <th></th>\n",
       "      <th>ari</th>\n",
       "      <th>vm</th>\n",
       "    </tr>\n",
       "  </thead>\n",
       "  <tbody>\n",
       "    <tr>\n",
       "      <th>Barock/Realismus</th>\n",
       "      <td>0.515060</td>\n",
       "      <td>0.531504</td>\n",
       "    </tr>\n",
       "    <tr>\n",
       "      <th>Barock/Klassik</th>\n",
       "      <td>0.491301</td>\n",
       "      <td>0.499456</td>\n",
       "    </tr>\n",
       "    <tr>\n",
       "      <th>Barock/Biedermeier</th>\n",
       "      <td>0.452367</td>\n",
       "      <td>0.513535</td>\n",
       "    </tr>\n",
       "    <tr>\n",
       "      <th>Barock/Naturalismus</th>\n",
       "      <td>0.411893</td>\n",
       "      <td>0.444248</td>\n",
       "    </tr>\n",
       "    <tr>\n",
       "      <th>Barock/Aufklärung</th>\n",
       "      <td>0.374712</td>\n",
       "      <td>0.380885</td>\n",
       "    </tr>\n",
       "    <tr>\n",
       "      <th>Aufklärung/Romantik</th>\n",
       "      <td>0.313450</td>\n",
       "      <td>0.152963</td>\n",
       "    </tr>\n",
       "    <tr>\n",
       "      <th>Biedermeier/Expressionismus</th>\n",
       "      <td>0.289992</td>\n",
       "      <td>0.190054</td>\n",
       "    </tr>\n",
       "  </tbody>\n",
       "</table>\n",
       "</div>"
      ],
      "text/plain": [
       "                                  ari        vm\n",
       "Barock/Realismus             0.515060  0.531504\n",
       "Barock/Klassik               0.491301  0.499456\n",
       "Barock/Biedermeier           0.452367  0.513535\n",
       "Barock/Naturalismus          0.411893  0.444248\n",
       "Barock/Aufklärung            0.374712  0.380885\n",
       "Aufklärung/Romantik          0.313450  0.152963\n",
       "Biedermeier/Expressionismus  0.289992  0.190054"
      ]
     },
     "execution_count": 129,
     "metadata": {},
     "output_type": "execute_result"
    }
   ],
   "source": [
    "dbscan_best = list(dbscan_score_df[dbscan_score_df.ari >= min_score].index)\n",
    "best_epochs[\"dbscan\"] = dbscan_best\n",
    "dbscan_score_df.head(7)"
   ]
  },
  {
   "cell_type": "code",
   "execution_count": 130,
   "metadata": {},
   "outputs": [
    {
     "data": {
      "text/html": [
       "<div>\n",
       "<style scoped>\n",
       "    .dataframe tbody tr th:only-of-type {\n",
       "        vertical-align: middle;\n",
       "    }\n",
       "\n",
       "    .dataframe tbody tr th {\n",
       "        vertical-align: top;\n",
       "    }\n",
       "\n",
       "    .dataframe thead th {\n",
       "        text-align: right;\n",
       "    }\n",
       "</style>\n",
       "<table border=\"1\" class=\"dataframe\">\n",
       "  <thead>\n",
       "    <tr style=\"text-align: right;\">\n",
       "      <th></th>\n",
       "      <th>ari</th>\n",
       "      <th>vm</th>\n",
       "    </tr>\n",
       "  </thead>\n",
       "  <tbody>\n",
       "    <tr>\n",
       "      <th>Klassik/Expressionismus</th>\n",
       "      <td>0.850551</td>\n",
       "      <td>0.761851</td>\n",
       "    </tr>\n",
       "    <tr>\n",
       "      <th>Barock/Biedermeier</th>\n",
       "      <td>0.723530</td>\n",
       "      <td>0.686389</td>\n",
       "    </tr>\n",
       "    <tr>\n",
       "      <th>Barock/Realismus</th>\n",
       "      <td>0.690851</td>\n",
       "      <td>0.660663</td>\n",
       "    </tr>\n",
       "    <tr>\n",
       "      <th>Barock/Klassik</th>\n",
       "      <td>0.653025</td>\n",
       "      <td>0.622653</td>\n",
       "    </tr>\n",
       "    <tr>\n",
       "      <th>Aufklärung/Naturalismus</th>\n",
       "      <td>0.579205</td>\n",
       "      <td>0.545969</td>\n",
       "    </tr>\n",
       "    <tr>\n",
       "      <th>Barock/Aufklärung</th>\n",
       "      <td>0.572019</td>\n",
       "      <td>0.509235</td>\n",
       "    </tr>\n",
       "    <tr>\n",
       "      <th>Romantik/Expressionismus</th>\n",
       "      <td>0.439114</td>\n",
       "      <td>0.498718</td>\n",
       "    </tr>\n",
       "  </tbody>\n",
       "</table>\n",
       "</div>"
      ],
      "text/plain": [
       "                               ari        vm\n",
       "Klassik/Expressionismus   0.850551  0.761851\n",
       "Barock/Biedermeier        0.723530  0.686389\n",
       "Barock/Realismus          0.690851  0.660663\n",
       "Barock/Klassik            0.653025  0.622653\n",
       "Aufklärung/Naturalismus   0.579205  0.545969\n",
       "Barock/Aufklärung         0.572019  0.509235\n",
       "Romantik/Expressionismus  0.439114  0.498718"
      ]
     },
     "execution_count": 130,
     "metadata": {},
     "output_type": "execute_result"
    }
   ],
   "source": [
    "kmeans_rd_best = list(kmeans_score_rd_df[kmeans_score_rd_df.ari >= min_score].index)\n",
    "best_epochs[\"kmeans_rd\"] = kmeans_rd_best\n",
    "kmeans_score_rd_df.head(7)"
   ]
  },
  {
   "cell_type": "code",
   "execution_count": 131,
   "metadata": {},
   "outputs": [
    {
     "data": {
      "text/html": [
       "<div>\n",
       "<style scoped>\n",
       "    .dataframe tbody tr th:only-of-type {\n",
       "        vertical-align: middle;\n",
       "    }\n",
       "\n",
       "    .dataframe tbody tr th {\n",
       "        vertical-align: top;\n",
       "    }\n",
       "\n",
       "    .dataframe thead th {\n",
       "        text-align: right;\n",
       "    }\n",
       "</style>\n",
       "<table border=\"1\" class=\"dataframe\">\n",
       "  <thead>\n",
       "    <tr style=\"text-align: right;\">\n",
       "      <th></th>\n",
       "      <th>ari</th>\n",
       "      <th>vm</th>\n",
       "    </tr>\n",
       "  </thead>\n",
       "  <tbody>\n",
       "    <tr>\n",
       "      <th>Aufklärung/Naturalismus</th>\n",
       "      <td>0.806515</td>\n",
       "      <td>0.729329</td>\n",
       "    </tr>\n",
       "    <tr>\n",
       "      <th>Aufklärung/Realismus</th>\n",
       "      <td>0.776133</td>\n",
       "      <td>0.725598</td>\n",
       "    </tr>\n",
       "    <tr>\n",
       "      <th>Barock/Realismus</th>\n",
       "      <td>0.756305</td>\n",
       "      <td>0.712015</td>\n",
       "    </tr>\n",
       "    <tr>\n",
       "      <th>Barock/Klassik</th>\n",
       "      <td>0.707729</td>\n",
       "      <td>0.635589</td>\n",
       "    </tr>\n",
       "    <tr>\n",
       "      <th>Aufklärung/Biedermeier</th>\n",
       "      <td>0.687960</td>\n",
       "      <td>0.603123</td>\n",
       "    </tr>\n",
       "    <tr>\n",
       "      <th>Aufklärung/Expressionismus</th>\n",
       "      <td>0.572789</td>\n",
       "      <td>0.473481</td>\n",
       "    </tr>\n",
       "    <tr>\n",
       "      <th>Barock/Biedermeier</th>\n",
       "      <td>0.568653</td>\n",
       "      <td>0.551779</td>\n",
       "    </tr>\n",
       "  </tbody>\n",
       "</table>\n",
       "</div>"
      ],
      "text/plain": [
       "                                 ari        vm\n",
       "Aufklärung/Naturalismus     0.806515  0.729329\n",
       "Aufklärung/Realismus        0.776133  0.725598\n",
       "Barock/Realismus            0.756305  0.712015\n",
       "Barock/Klassik              0.707729  0.635589\n",
       "Aufklärung/Biedermeier      0.687960  0.603123\n",
       "Aufklärung/Expressionismus  0.572789  0.473481\n",
       "Barock/Biedermeier          0.568653  0.551779"
      ]
     },
     "execution_count": 131,
     "metadata": {},
     "output_type": "execute_result"
    }
   ],
   "source": [
    "dbscan_rd_best = list(dbscan_score_rd_df[dbscan_score_rd_df.ari >= min_score].index)\n",
    "best_epochs[\"dbscan_rd\"] = dbscan_rd_best\n",
    "dbscan_score_rd_df.head(7)"
   ]
  },
  {
   "cell_type": "code",
   "execution_count": 132,
   "metadata": {},
   "outputs": [],
   "source": [
    "best_epochs_list = []\n",
    "\n",
    "for k, v in best_epochs.items():\n",
    "    for pair in v:\n",
    "        epochs = pair.split(\"/\")\n",
    "        for epoch in epochs:\n",
    "            best_epochs_list.append(epoch)\n",
    "best_epochs_counter = dict(Counter(best_epochs_list).most_common(8))"
   ]
  },
  {
   "cell_type": "code",
   "execution_count": 133,
   "metadata": {},
   "outputs": [
    {
     "data": {
      "text/plain": [
       "{'Barock': 7,\n",
       " 'Realismus': 4,\n",
       " 'Naturalismus': 3,\n",
       " 'Aufklärung': 3,\n",
       " 'Klassik': 3,\n",
       " 'Expressionismus': 1,\n",
       " 'Biedermeier': 1}"
      ]
     },
     "execution_count": 133,
     "metadata": {},
     "output_type": "execute_result"
    }
   ],
   "source": [
    "best_epochs_counter"
   ]
  },
  {
   "cell_type": "code",
   "execution_count": 135,
   "metadata": {},
   "outputs": [
    {
     "name": "stdout",
     "output_type": "stream",
     "text": [
      "Barock: 31%\n",
      "Realismus: 18%\n",
      "Naturalismus: 13%\n",
      "Aufklärung: 13%\n",
      "Klassik: 13%\n",
      "Expressionismus: 4%\n",
      "Biedermeier: 4%\n"
     ]
    }
   ],
   "source": [
    "sum_counts = sum(best_epochs_counter.values())\n",
    "c = 0\n",
    "for k, v in best_epochs_counter.items():\n",
    "    print(f\"{k}: {int(v/sum_counts * 100)}%\")"
   ]
  },
  {
   "cell_type": "markdown",
   "metadata": {},
   "source": [
    "## top words"
   ]
  },
  {
   "cell_type": "code",
   "execution_count": 20,
   "metadata": {},
   "outputs": [],
   "source": [
    "tw = pd.DataFrame.from_dict(kmeans_rd_top_words, orient=\"index\")\n",
    "tw.columns = [\"cluster1\", \"cluster2\"]"
   ]
  },
  {
   "cell_type": "code",
   "execution_count": 21,
   "metadata": {},
   "outputs": [
    {
     "data": {
      "text/html": [
       "<div>\n",
       "<style scoped>\n",
       "    .dataframe tbody tr th:only-of-type {\n",
       "        vertical-align: middle;\n",
       "    }\n",
       "\n",
       "    .dataframe tbody tr th {\n",
       "        vertical-align: top;\n",
       "    }\n",
       "\n",
       "    .dataframe thead th {\n",
       "        text-align: right;\n",
       "    }\n",
       "</style>\n",
       "<table border=\"1\" class=\"dataframe\">\n",
       "  <thead>\n",
       "    <tr style=\"text-align: right;\">\n",
       "      <th></th>\n",
       "      <th>cluster1</th>\n",
       "      <th>cluster2</th>\n",
       "    </tr>\n",
       "  </thead>\n",
       "  <tbody>\n",
       "    <tr>\n",
       "      <th>Barock/Aufklärung</th>\n",
       "      <td>[mädchen, dieß, amor, flur, hain, frei, jhr, w...</td>\n",
       "      <td>[auff, vnd, hertz, diß, wil, jhr, auß, gantz, ...</td>\n",
       "    </tr>\n",
       "    <tr>\n",
       "      <th>Barock/Klassik</th>\n",
       "      <td>[tränen, tal, mut, liebchen, hain, not, lenz, ...</td>\n",
       "      <td>[auff, vnd, diß, hertz, wil, wol, auß, hertzen...</td>\n",
       "    </tr>\n",
       "    <tr>\n",
       "      <th>Barock/Romantik</th>\n",
       "      <td>[vnd, auß, hertze, jhr, itzt, deß, hauß, umb, ...</td>\n",
       "      <td>[tränen, not, tun, schwert, tut, duft, frei, l...</td>\n",
       "    </tr>\n",
       "  </tbody>\n",
       "</table>\n",
       "</div>"
      ],
      "text/plain": [
       "                                                            cluster1  \\\n",
       "Barock/Aufklärung  [mädchen, dieß, amor, flur, hain, frei, jhr, w...   \n",
       "Barock/Klassik     [tränen, tal, mut, liebchen, hain, not, lenz, ...   \n",
       "Barock/Romantik    [vnd, auß, hertze, jhr, itzt, deß, hauß, umb, ...   \n",
       "\n",
       "                                                            cluster2  \n",
       "Barock/Aufklärung  [auff, vnd, hertz, diß, wil, jhr, auß, gantz, ...  \n",
       "Barock/Klassik     [auff, vnd, diß, hertz, wil, wol, auß, hertzen...  \n",
       "Barock/Romantik    [tränen, not, tun, schwert, tut, duft, frei, l...  "
      ]
     },
     "execution_count": 21,
     "metadata": {},
     "output_type": "execute_result"
    }
   ],
   "source": [
    "tw.head(3)"
   ]
  },
  {
   "cell_type": "code",
   "execution_count": 22,
   "metadata": {},
   "outputs": [],
   "source": [
    "tw = tw.loc[[\"Barock/Realismus\"]]"
   ]
  },
  {
   "cell_type": "code",
   "execution_count": 23,
   "metadata": {},
   "outputs": [],
   "source": [
    "def strjoin(liste):\n",
    "    return \" \".join(liste)"
   ]
  },
  {
   "cell_type": "code",
   "execution_count": 24,
   "metadata": {},
   "outputs": [],
   "source": [
    "tw[\"cluster1\"] = tw.cluster1.apply(strjoin)\n",
    "tw[\"cluster2\"] = tw.cluster2.apply(strjoin)"
   ]
  },
  {
   "cell_type": "code",
   "execution_count": 25,
   "metadata": {},
   "outputs": [
    {
     "data": {
      "text/html": [
       "<div>\n",
       "<style scoped>\n",
       "    .dataframe tbody tr th:only-of-type {\n",
       "        vertical-align: middle;\n",
       "    }\n",
       "\n",
       "    .dataframe tbody tr th {\n",
       "        vertical-align: top;\n",
       "    }\n",
       "\n",
       "    .dataframe thead th {\n",
       "        text-align: right;\n",
       "    }\n",
       "</style>\n",
       "<table border=\"1\" class=\"dataframe\">\n",
       "  <thead>\n",
       "    <tr style=\"text-align: right;\">\n",
       "      <th></th>\n",
       "      <th>cluster1</th>\n",
       "      <th>cluster2</th>\n",
       "    </tr>\n",
       "  </thead>\n",
       "  <tbody>\n",
       "    <tr>\n",
       "      <th>Barock/Realismus</th>\n",
       "      <td>mädchen sehnsucht duft not leis ew rasch sanft...</td>\n",
       "      <td>auff vnd sey diß wil hertz wol auß hertzen jhr</td>\n",
       "    </tr>\n",
       "  </tbody>\n",
       "</table>\n",
       "</div>"
      ],
      "text/plain": [
       "                                                           cluster1  \\\n",
       "Barock/Realismus  mädchen sehnsucht duft not leis ew rasch sanft...   \n",
       "\n",
       "                                                        cluster2  \n",
       "Barock/Realismus  auff vnd sey diß wil hertz wol auß hertzen jhr  "
      ]
     },
     "execution_count": 25,
     "metadata": {},
     "output_type": "execute_result"
    }
   ],
   "source": [
    "tw.head(3)"
   ]
  },
  {
   "cell_type": "code",
   "execution_count": 26,
   "metadata": {},
   "outputs": [
    {
     "name": "stdout",
     "output_type": "stream",
     "text": [
      "mädchen sehnsucht duft not leis ew rasch sanft dunklen drin\n",
      "auff vnd sey diß wil hertz wol auß hertzen jhr\n"
     ]
    }
   ],
   "source": [
    "for i in tw.cluster1.values:\n",
    "    print(i)\n",
    "    \n",
    "for i in tw.cluster2.values:\n",
    "    print(i)"
   ]
  },
  {
   "cell_type": "code",
   "execution_count": 17,
   "metadata": {},
   "outputs": [],
   "source": [
    "#generate_wordcloud(dict(Counter(cluster1_words)))"
   ]
  },
  {
   "cell_type": "code",
   "execution_count": null,
   "metadata": {},
   "outputs": [],
   "source": []
  }
 ],
 "metadata": {
  "kernelspec": {
   "display_name": "Python 3",
   "language": "python",
   "name": "python3"
  },
  "language_info": {
   "codemirror_mode": {
    "name": "ipython",
    "version": 3
   },
   "file_extension": ".py",
   "mimetype": "text/x-python",
   "name": "python",
   "nbconvert_exporter": "python",
   "pygments_lexer": "ipython3",
   "version": "3.7.7"
  }
 },
 "nbformat": 4,
 "nbformat_minor": 4
}
