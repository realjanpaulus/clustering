{
 "cells": [
  {
   "cell_type": "markdown",
   "metadata": {},
   "source": [
    "# Clustering evaluation"
   ]
  },
  {
   "cell_type": "code",
   "execution_count": 20,
   "metadata": {},
   "outputs": [],
   "source": [
    "from collections import Counter\n",
    "import json\n",
    "import numpy as np\n",
    "import pandas as pd"
   ]
  },
  {
   "cell_type": "code",
   "execution_count": 34,
   "metadata": {},
   "outputs": [],
   "source": [
    "RESULTS_PATH = \"../results/kmeans_results_amann.json\"\n",
    "MAX_ARI = 0.5\n",
    "MIN_ARI = -0.1"
   ]
  },
  {
   "cell_type": "code",
   "execution_count": 35,
   "metadata": {},
   "outputs": [],
   "source": [
    "with open(RESULTS_PATH) as f:\n",
    "    results = json.load(f)"
   ]
  },
  {
   "cell_type": "code",
   "execution_count": 36,
   "metadata": {},
   "outputs": [],
   "source": [
    "scores = {}\n",
    "top_words = {}\n",
    "\n",
    "for k,v in results.items():\n",
    "    scores[k] = v[\"scores\"]\n",
    "    top_words[k] = v[\"tw\"]"
   ]
  },
  {
   "cell_type": "code",
   "execution_count": 37,
   "metadata": {},
   "outputs": [],
   "source": [
    "score_df = pd.DataFrame.from_dict(scores, orient=\"index\").sort_values(\"ari\", ascending=False)"
   ]
  },
  {
   "cell_type": "code",
   "execution_count": 38,
   "metadata": {},
   "outputs": [],
   "source": [
    "shortened_score_df = score_df[(score_df.ari >= MAX_ARI) | (score_df.ari <= MIN_ARI)]"
   ]
  },
  {
   "cell_type": "code",
   "execution_count": 39,
   "metadata": {},
   "outputs": [
    {
     "data": {
      "text/html": [
       "<div>\n",
       "<style scoped>\n",
       "    .dataframe tbody tr th:only-of-type {\n",
       "        vertical-align: middle;\n",
       "    }\n",
       "\n",
       "    .dataframe tbody tr th {\n",
       "        vertical-align: top;\n",
       "    }\n",
       "\n",
       "    .dataframe thead th {\n",
       "        text-align: right;\n",
       "    }\n",
       "</style>\n",
       "<table border=\"1\" class=\"dataframe\">\n",
       "  <thead>\n",
       "    <tr style=\"text-align: right;\">\n",
       "      <th></th>\n",
       "      <th>ari</th>\n",
       "      <th>vm</th>\n",
       "    </tr>\n",
       "  </thead>\n",
       "  <tbody>\n",
       "    <tr>\n",
       "      <th>Barock/Naturalismus</th>\n",
       "      <td>0.702405</td>\n",
       "      <td>0.605282</td>\n",
       "    </tr>\n",
       "    <tr>\n",
       "      <th>Barock/Klassik</th>\n",
       "      <td>0.668184</td>\n",
       "      <td>0.630639</td>\n",
       "    </tr>\n",
       "    <tr>\n",
       "      <th>Aufklärung/Naturalismus</th>\n",
       "      <td>0.642419</td>\n",
       "      <td>0.598242</td>\n",
       "    </tr>\n",
       "    <tr>\n",
       "      <th>Barock/Realismus</th>\n",
       "      <td>0.636041</td>\n",
       "      <td>0.613524</td>\n",
       "    </tr>\n",
       "    <tr>\n",
       "      <th>Barock/Aufklärung</th>\n",
       "      <td>0.549068</td>\n",
       "      <td>0.466089</td>\n",
       "    </tr>\n",
       "    <tr>\n",
       "      <th>Barock/Romantik</th>\n",
       "      <td>-0.106393</td>\n",
       "      <td>0.101688</td>\n",
       "    </tr>\n",
       "  </tbody>\n",
       "</table>\n",
       "</div>"
      ],
      "text/plain": [
       "                              ari        vm\n",
       "Barock/Naturalismus      0.702405  0.605282\n",
       "Barock/Klassik           0.668184  0.630639\n",
       "Aufklärung/Naturalismus  0.642419  0.598242\n",
       "Barock/Realismus         0.636041  0.613524\n",
       "Barock/Aufklärung        0.549068  0.466089\n",
       "Barock/Romantik         -0.106393  0.101688"
      ]
     },
     "execution_count": 39,
     "metadata": {},
     "output_type": "execute_result"
    }
   ],
   "source": [
    "shortened_score_df"
   ]
  },
  {
   "cell_type": "markdown",
   "metadata": {},
   "source": [
    "## top words"
   ]
  },
  {
   "cell_type": "code",
   "execution_count": 24,
   "metadata": {},
   "outputs": [],
   "source": [
    "tw = pd.DataFrame.from_dict(top_words, orient=\"index\")\n",
    "tw.columns = [\"cluster1\", \"cluster2\"]"
   ]
  },
  {
   "cell_type": "code",
   "execution_count": 25,
   "metadata": {},
   "outputs": [
    {
     "data": {
      "text/html": [
       "<div>\n",
       "<style scoped>\n",
       "    .dataframe tbody tr th:only-of-type {\n",
       "        vertical-align: middle;\n",
       "    }\n",
       "\n",
       "    .dataframe tbody tr th {\n",
       "        vertical-align: top;\n",
       "    }\n",
       "\n",
       "    .dataframe thead th {\n",
       "        text-align: right;\n",
       "    }\n",
       "</style>\n",
       "<table border=\"1\" class=\"dataframe\">\n",
       "  <thead>\n",
       "    <tr style=\"text-align: right;\">\n",
       "      <th></th>\n",
       "      <th>cluster1</th>\n",
       "      <th>cluster2</th>\n",
       "    </tr>\n",
       "  </thead>\n",
       "  <tbody>\n",
       "    <tr>\n",
       "      <th>Barock/Frühaufklärung</th>\n",
       "      <td>[vnd, auff, auß, dan, jhr, deß, vns, wan, üm, ...</td>\n",
       "      <td>[auff, jch, jn, fuer, sei, wil, jhr, mädchen, ...</td>\n",
       "    </tr>\n",
       "    <tr>\n",
       "      <th>Barock/Aufklärung</th>\n",
       "      <td>[mädchen, hain, flur, fuer, freiheit, ew, sehn...</td>\n",
       "      <td>[kan, auff, vnd, diß, wil, auß, hertz, jch, of...</td>\n",
       "    </tr>\n",
       "    <tr>\n",
       "      <th>Barock/Biedermeier</th>\n",
       "      <td>[mädchen, ueber, tränen, fuer, duft, thränen, ...</td>\n",
       "      <td>[kan, auff, vnd, diß, wil, auß, hertz, jch, of...</td>\n",
       "    </tr>\n",
       "  </tbody>\n",
       "</table>\n",
       "</div>"
      ],
      "text/plain": [
       "                                                                cluster1  \\\n",
       "Barock/Frühaufklärung  [vnd, auff, auß, dan, jhr, deß, vns, wan, üm, ...   \n",
       "Barock/Aufklärung      [mädchen, hain, flur, fuer, freiheit, ew, sehn...   \n",
       "Barock/Biedermeier     [mädchen, ueber, tränen, fuer, duft, thränen, ...   \n",
       "\n",
       "                                                                cluster2  \n",
       "Barock/Frühaufklärung  [auff, jch, jn, fuer, sei, wil, jhr, mädchen, ...  \n",
       "Barock/Aufklärung      [kan, auff, vnd, diß, wil, auß, hertz, jch, of...  \n",
       "Barock/Biedermeier     [kan, auff, vnd, diß, wil, auß, hertz, jch, of...  "
      ]
     },
     "execution_count": 25,
     "metadata": {},
     "output_type": "execute_result"
    }
   ],
   "source": [
    "tw.head(3)"
   ]
  },
  {
   "cell_type": "code",
   "execution_count": 26,
   "metadata": {},
   "outputs": [],
   "source": [
    "tw = tw.loc[[\"Barock/Realismus\"]]"
   ]
  },
  {
   "cell_type": "code",
   "execution_count": 27,
   "metadata": {},
   "outputs": [],
   "source": [
    "def strjoin(liste):\n",
    "    return \" \".join(liste)"
   ]
  },
  {
   "cell_type": "code",
   "execution_count": 28,
   "metadata": {},
   "outputs": [],
   "source": [
    "tw[\"cluster1\"] = tw.cluster1.apply(strjoin)\n",
    "tw[\"cluster2\"] = tw.cluster2.apply(strjoin)"
   ]
  },
  {
   "cell_type": "code",
   "execution_count": 29,
   "metadata": {},
   "outputs": [
    {
     "data": {
      "text/html": [
       "<div>\n",
       "<style scoped>\n",
       "    .dataframe tbody tr th:only-of-type {\n",
       "        vertical-align: middle;\n",
       "    }\n",
       "\n",
       "    .dataframe tbody tr th {\n",
       "        vertical-align: top;\n",
       "    }\n",
       "\n",
       "    .dataframe thead th {\n",
       "        text-align: right;\n",
       "    }\n",
       "</style>\n",
       "<table border=\"1\" class=\"dataframe\">\n",
       "  <thead>\n",
       "    <tr style=\"text-align: right;\">\n",
       "      <th></th>\n",
       "      <th>cluster1</th>\n",
       "      <th>cluster2</th>\n",
       "    </tr>\n",
       "  </thead>\n",
       "  <tbody>\n",
       "    <tr>\n",
       "      <th>Barock/Realismus</th>\n",
       "      <td>kan vnd auff seyn bey diß sey wil wol auß</td>\n",
       "      <td>oh ew thränen tat tut ritter ueber tal tor re</td>\n",
       "    </tr>\n",
       "  </tbody>\n",
       "</table>\n",
       "</div>"
      ],
      "text/plain": [
       "                                                   cluster1  \\\n",
       "Barock/Realismus  kan vnd auff seyn bey diß sey wil wol auß   \n",
       "\n",
       "                                                       cluster2  \n",
       "Barock/Realismus  oh ew thränen tat tut ritter ueber tal tor re  "
      ]
     },
     "execution_count": 29,
     "metadata": {},
     "output_type": "execute_result"
    }
   ],
   "source": [
    "tw.head(3)"
   ]
  },
  {
   "cell_type": "code",
   "execution_count": 30,
   "metadata": {},
   "outputs": [],
   "source": [
    "cluster1_words = [w for l in tw.cluster1.values for w in l.split(\" \")]\n",
    "cluster2_words = [w for l in tw.cluster2.values for w in l.split(\" \")]"
   ]
  },
  {
   "cell_type": "code",
   "execution_count": 31,
   "metadata": {},
   "outputs": [],
   "source": [
    "cluster1_mc = Counter(cluster1_words).most_common(10)\n",
    "cluster2_mc = Counter(cluster2_words).most_common(10)\n",
    "\n",
    "cluster1_mc_df = pd.DataFrame(cluster1_mc, columns=[\"Wort\", \"Häufigkeit\"])\n",
    "cluster2_mc_df = pd.DataFrame(cluster2_mc, columns=[\"Wort\", \"Häufigkeit\"])"
   ]
  },
  {
   "cell_type": "code",
   "execution_count": 32,
   "metadata": {},
   "outputs": [
    {
     "data": {
      "text/html": [
       "<div>\n",
       "<style scoped>\n",
       "    .dataframe tbody tr th:only-of-type {\n",
       "        vertical-align: middle;\n",
       "    }\n",
       "\n",
       "    .dataframe tbody tr th {\n",
       "        vertical-align: top;\n",
       "    }\n",
       "\n",
       "    .dataframe thead th {\n",
       "        text-align: right;\n",
       "    }\n",
       "</style>\n",
       "<table border=\"1\" class=\"dataframe\">\n",
       "  <thead>\n",
       "    <tr style=\"text-align: right;\">\n",
       "      <th></th>\n",
       "      <th>Wort</th>\n",
       "      <th>Häufigkeit</th>\n",
       "    </tr>\n",
       "  </thead>\n",
       "  <tbody>\n",
       "    <tr>\n",
       "      <th>0</th>\n",
       "      <td>kan</td>\n",
       "      <td>1</td>\n",
       "    </tr>\n",
       "    <tr>\n",
       "      <th>1</th>\n",
       "      <td>vnd</td>\n",
       "      <td>1</td>\n",
       "    </tr>\n",
       "    <tr>\n",
       "      <th>2</th>\n",
       "      <td>auff</td>\n",
       "      <td>1</td>\n",
       "    </tr>\n",
       "    <tr>\n",
       "      <th>3</th>\n",
       "      <td>seyn</td>\n",
       "      <td>1</td>\n",
       "    </tr>\n",
       "    <tr>\n",
       "      <th>4</th>\n",
       "      <td>bey</td>\n",
       "      <td>1</td>\n",
       "    </tr>\n",
       "    <tr>\n",
       "      <th>5</th>\n",
       "      <td>diß</td>\n",
       "      <td>1</td>\n",
       "    </tr>\n",
       "    <tr>\n",
       "      <th>6</th>\n",
       "      <td>sey</td>\n",
       "      <td>1</td>\n",
       "    </tr>\n",
       "    <tr>\n",
       "      <th>7</th>\n",
       "      <td>wil</td>\n",
       "      <td>1</td>\n",
       "    </tr>\n",
       "    <tr>\n",
       "      <th>8</th>\n",
       "      <td>wol</td>\n",
       "      <td>1</td>\n",
       "    </tr>\n",
       "    <tr>\n",
       "      <th>9</th>\n",
       "      <td>auß</td>\n",
       "      <td>1</td>\n",
       "    </tr>\n",
       "  </tbody>\n",
       "</table>\n",
       "</div>"
      ],
      "text/plain": [
       "   Wort  Häufigkeit\n",
       "0   kan           1\n",
       "1   vnd           1\n",
       "2  auff           1\n",
       "3  seyn           1\n",
       "4   bey           1\n",
       "5   diß           1\n",
       "6   sey           1\n",
       "7   wil           1\n",
       "8   wol           1\n",
       "9   auß           1"
      ]
     },
     "execution_count": 32,
     "metadata": {},
     "output_type": "execute_result"
    }
   ],
   "source": [
    "cluster1_mc_df"
   ]
  },
  {
   "cell_type": "code",
   "execution_count": 33,
   "metadata": {},
   "outputs": [
    {
     "data": {
      "text/html": [
       "<div>\n",
       "<style scoped>\n",
       "    .dataframe tbody tr th:only-of-type {\n",
       "        vertical-align: middle;\n",
       "    }\n",
       "\n",
       "    .dataframe tbody tr th {\n",
       "        vertical-align: top;\n",
       "    }\n",
       "\n",
       "    .dataframe thead th {\n",
       "        text-align: right;\n",
       "    }\n",
       "</style>\n",
       "<table border=\"1\" class=\"dataframe\">\n",
       "  <thead>\n",
       "    <tr style=\"text-align: right;\">\n",
       "      <th></th>\n",
       "      <th>Wort</th>\n",
       "      <th>Häufigkeit</th>\n",
       "    </tr>\n",
       "  </thead>\n",
       "  <tbody>\n",
       "    <tr>\n",
       "      <th>0</th>\n",
       "      <td>oh</td>\n",
       "      <td>1</td>\n",
       "    </tr>\n",
       "    <tr>\n",
       "      <th>1</th>\n",
       "      <td>ew</td>\n",
       "      <td>1</td>\n",
       "    </tr>\n",
       "    <tr>\n",
       "      <th>2</th>\n",
       "      <td>thränen</td>\n",
       "      <td>1</td>\n",
       "    </tr>\n",
       "    <tr>\n",
       "      <th>3</th>\n",
       "      <td>tat</td>\n",
       "      <td>1</td>\n",
       "    </tr>\n",
       "    <tr>\n",
       "      <th>4</th>\n",
       "      <td>tut</td>\n",
       "      <td>1</td>\n",
       "    </tr>\n",
       "    <tr>\n",
       "      <th>5</th>\n",
       "      <td>ritter</td>\n",
       "      <td>1</td>\n",
       "    </tr>\n",
       "    <tr>\n",
       "      <th>6</th>\n",
       "      <td>ueber</td>\n",
       "      <td>1</td>\n",
       "    </tr>\n",
       "    <tr>\n",
       "      <th>7</th>\n",
       "      <td>tal</td>\n",
       "      <td>1</td>\n",
       "    </tr>\n",
       "    <tr>\n",
       "      <th>8</th>\n",
       "      <td>tor</td>\n",
       "      <td>1</td>\n",
       "    </tr>\n",
       "    <tr>\n",
       "      <th>9</th>\n",
       "      <td>re</td>\n",
       "      <td>1</td>\n",
       "    </tr>\n",
       "  </tbody>\n",
       "</table>\n",
       "</div>"
      ],
      "text/plain": [
       "      Wort  Häufigkeit\n",
       "0       oh           1\n",
       "1       ew           1\n",
       "2  thränen           1\n",
       "3      tat           1\n",
       "4      tut           1\n",
       "5   ritter           1\n",
       "6    ueber           1\n",
       "7      tal           1\n",
       "8      tor           1\n",
       "9       re           1"
      ]
     },
     "execution_count": 33,
     "metadata": {},
     "output_type": "execute_result"
    }
   ],
   "source": [
    "cluster2_mc_df"
   ]
  },
  {
   "cell_type": "code",
   "execution_count": null,
   "metadata": {},
   "outputs": [],
   "source": []
  }
 ],
 "metadata": {
  "kernelspec": {
   "display_name": "Python 3",
   "language": "python",
   "name": "python3"
  },
  "language_info": {
   "codemirror_mode": {
    "name": "ipython",
    "version": 3
   },
   "file_extension": ".py",
   "mimetype": "text/x-python",
   "name": "python",
   "nbconvert_exporter": "python",
   "pygments_lexer": "ipython3",
   "version": "3.7.7"
  }
 },
 "nbformat": 4,
 "nbformat_minor": 4
}
