{
 "cells": [
  {
   "cell_type": "markdown",
   "metadata": {},
   "source": [
    "# Corpus Modification"
   ]
  },
  {
   "cell_type": "code",
   "execution_count": 1,
   "metadata": {},
   "outputs": [],
   "source": [
    "import json\n",
    "import matplotlib.pyplot as plt\n",
    "%matplotlib inline\n",
    "%config InlineBackend.figure_format = 'svg'\n",
    "import numpy as np\n",
    "import pandas as pd\n",
    "import re\n",
    "from scipy.spatial.distance import pdist\n",
    "from scipy.cluster.hierarchy import cophenet, dendrogram, linkage\n",
    "from stop_words import get_stop_words\n",
    "import seaborn as sns\n",
    "\n",
    "from sklearn.cluster import AgglomerativeClustering\n",
    "from sklearn.decomposition import PCA, TruncatedSVD\n",
    "from sklearn.feature_extraction.text import TfidfVectorizer\n",
    "from sklearn.metrics import adjusted_rand_score\n",
    "from sklearn.preprocessing import LabelEncoder\n",
    "\n",
    "from utils import add_epoch_division, linkage_matrix, merge_corpus_poets, plot_dendrogram, remove_noise_poet, text_cleaning"
   ]
  },
  {
   "cell_type": "code",
   "execution_count": 2,
   "metadata": {},
   "outputs": [],
   "source": [
    "corpus = text_cleaning(pd.read_csv(\"../corpora/german_poems.csv\"))"
   ]
  },
  {
   "cell_type": "code",
   "execution_count": 3,
   "metadata": {},
   "outputs": [],
   "source": [
    "with open(\"epochs.json\") as f:\n",
    "    epochs = json.loads(f.read())\n",
    "\n",
    "epochs = epochs[\"amann\"]\n",
    "epoch_exceptions = [\"Sturm_Drang\"]\n",
    "corpus = add_epoch_division(corpus, epochs, epoch_exceptions=epoch_exceptions)"
   ]
  },
  {
   "cell_type": "code",
   "execution_count": 4,
   "metadata": {},
   "outputs": [],
   "source": [
    "LOWERCASE = True\n",
    "MAX_FEATURES = 10000\n",
    "STOP_WORDS = get_stop_words(\"de\")"
   ]
  },
  {
   "cell_type": "code",
   "execution_count": 6,
   "metadata": {},
   "outputs": [],
   "source": [
    "mod_c = merge_corpus_poets(corpus)"
   ]
  },
  {
   "cell_type": "code",
   "execution_count": 7,
   "metadata": {},
   "outputs": [
    {
     "data": {
      "text/plain": [
       "Aufklärung         61\n",
       "Klassik            59\n",
       "Realismus          49\n",
       "Barock             41\n",
       "                   33\n",
       "Biedermeier        28\n",
       "Naturalismus       22\n",
       "Expressionismus    15\n",
       "Romantik           13\n",
       "Name: epoch, dtype: int64"
      ]
     },
     "execution_count": 7,
     "metadata": {},
     "output_type": "execute_result"
    }
   ],
   "source": [
    "mod_c.epoch.value_counts()"
   ]
  },
  {
   "cell_type": "code",
   "execution_count": 8,
   "metadata": {},
   "outputs": [],
   "source": [
    "c = text_cleaning(mod_c)"
   ]
  },
  {
   "cell_type": "code",
   "execution_count": 9,
   "metadata": {},
   "outputs": [
    {
     "data": {
      "text/html": [
       "<div>\n",
       "<style scoped>\n",
       "    .dataframe tbody tr th:only-of-type {\n",
       "        vertical-align: middle;\n",
       "    }\n",
       "\n",
       "    .dataframe tbody tr th {\n",
       "        vertical-align: top;\n",
       "    }\n",
       "\n",
       "    .dataframe thead th {\n",
       "        text-align: right;\n",
       "    }\n",
       "</style>\n",
       "<table border=\"1\" class=\"dataframe\">\n",
       "  <thead>\n",
       "    <tr style=\"text-align: right;\">\n",
       "      <th></th>\n",
       "      <th>id</th>\n",
       "      <th>poet</th>\n",
       "      <th>poem</th>\n",
       "      <th>year</th>\n",
       "      <th>epoch</th>\n",
       "    </tr>\n",
       "  </thead>\n",
       "  <tbody>\n",
       "    <tr>\n",
       "      <th>0</th>\n",
       "      <td>0</td>\n",
       "      <td>Abschatz, Hans Aßmann von</td>\n",
       "      <td>Was bleibt von Reichen unbekannt? Hält gleich ...</td>\n",
       "      <td>1678</td>\n",
       "      <td>Barock</td>\n",
       "    </tr>\n",
       "    <tr>\n",
       "      <th>1</th>\n",
       "      <td>1</td>\n",
       "      <td>Ahlefeld, Charlotte von</td>\n",
       "      <td>Nimm hin dies Bild, das auch in weite Ferne Di...</td>\n",
       "      <td>1815</td>\n",
       "      <td>Klassik</td>\n",
       "    </tr>\n",
       "    <tr>\n",
       "      <th>2</th>\n",
       "      <td>2</td>\n",
       "      <td>Angelus Silesius</td>\n",
       "      <td>Der Liebe Mittelpunkt ist Gott und auch ihr Kr...</td>\n",
       "      <td>1650</td>\n",
       "      <td>Barock</td>\n",
       "    </tr>\n",
       "    <tr>\n",
       "      <th>3</th>\n",
       "      <td>3</td>\n",
       "      <td>Arndt, Ernst Moritz</td>\n",
       "      <td>Wo kommst du her in dem roten Kleid Und färbst...</td>\n",
       "      <td>1814</td>\n",
       "      <td>Klassik</td>\n",
       "    </tr>\n",
       "    <tr>\n",
       "      <th>4</th>\n",
       "      <td>4</td>\n",
       "      <td>Arnim, Ludwig Achim von</td>\n",
       "      <td>Fahre fort mit Liebesschlägen, Süßer Jesu, lie...</td>\n",
       "      <td>1806</td>\n",
       "      <td>Klassik</td>\n",
       "    </tr>\n",
       "  </tbody>\n",
       "</table>\n",
       "</div>"
      ],
      "text/plain": [
       "  id                       poet  \\\n",
       "0  0  Abschatz, Hans Aßmann von   \n",
       "1  1    Ahlefeld, Charlotte von   \n",
       "2  2           Angelus Silesius   \n",
       "3  3        Arndt, Ernst Moritz   \n",
       "4  4    Arnim, Ludwig Achim von   \n",
       "\n",
       "                                                poem  year    epoch  \n",
       "0  Was bleibt von Reichen unbekannt? Hält gleich ...  1678   Barock  \n",
       "1  Nimm hin dies Bild, das auch in weite Ferne Di...  1815  Klassik  \n",
       "2  Der Liebe Mittelpunkt ist Gott und auch ihr Kr...  1650   Barock  \n",
       "3  Wo kommst du her in dem roten Kleid Und färbst...  1814  Klassik  \n",
       "4  Fahre fort mit Liebesschlägen, Süßer Jesu, lie...  1806  Klassik  "
      ]
     },
     "execution_count": 9,
     "metadata": {},
     "output_type": "execute_result"
    }
   ],
   "source": [
    "c.head(5)"
   ]
  },
  {
   "cell_type": "code",
   "execution_count": null,
   "metadata": {},
   "outputs": [],
   "source": []
  }
 ],
 "metadata": {
  "kernelspec": {
   "display_name": "Python 3",
   "language": "python",
   "name": "python3"
  },
  "language_info": {
   "codemirror_mode": {
    "name": "ipython",
    "version": 3
   },
   "file_extension": ".py",
   "mimetype": "text/x-python",
   "name": "python",
   "nbconvert_exporter": "python",
   "pygments_lexer": "ipython3",
   "version": "3.7.7"
  }
 },
 "nbformat": 4,
 "nbformat_minor": 4
}
