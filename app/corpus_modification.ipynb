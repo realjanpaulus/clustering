{
 "cells": [
  {
   "cell_type": "markdown",
   "metadata": {},
   "source": [
    "# Corpus Modification"
   ]
  },
  {
   "cell_type": "code",
   "execution_count": 41,
   "metadata": {},
   "outputs": [],
   "source": [
    "import json\n",
    "import matplotlib.pyplot as plt\n",
    "%matplotlib inline\n",
    "%config InlineBackend.figure_format = 'svg'\n",
    "import numpy as np\n",
    "import pandas as pd\n",
    "from scipy.spatial.distance import pdist\n",
    "from scipy.cluster.hierarchy import cophenet, dendrogram, linkage\n",
    "from stop_words import get_stop_words\n",
    "import seaborn as sns\n",
    "\n",
    "from sklearn.cluster import AgglomerativeClustering\n",
    "from sklearn.decomposition import PCA, TruncatedSVD\n",
    "from sklearn.feature_extraction.text import TfidfVectorizer\n",
    "from sklearn.metrics import adjusted_rand_score\n",
    "from sklearn.preprocessing import LabelEncoder\n",
    "\n",
    "from utils import add_epoch_division, linkage_matrix, plot_dendrogram, remove_noise_poet, text_cleaning"
   ]
  },
  {
   "cell_type": "code",
   "execution_count": 42,
   "metadata": {},
   "outputs": [],
   "source": [
    "corpus = text_cleaning(pd.read_csv(\"../corpora/german_poems.csv\"))"
   ]
  },
  {
   "cell_type": "code",
   "execution_count": 44,
   "metadata": {},
   "outputs": [],
   "source": [
    "with open(\"epochs.json\") as f:\n",
    "    epochs = json.loads(f.read())\n",
    "\n",
    "epochs = epochs[\"brenner\"]\n",
    "epoch_exception = \"Klassik_Romantik\"\n",
    "corpus = add_epoch_division(corpus, epochs, epoch_exception=epoch_exception)"
   ]
  },
  {
   "cell_type": "code",
   "execution_count": 4,
   "metadata": {},
   "outputs": [],
   "source": [
    "LOWERCASE = True\n",
    "MAX_FEATURES = 10000\n",
    "STOP_WORDS = get_stop_words(\"de\")"
   ]
  },
  {
   "cell_type": "code",
   "execution_count": 7,
   "metadata": {},
   "outputs": [
    {
     "data": {
      "text/plain": [
       "265"
      ]
     },
     "execution_count": 7,
     "metadata": {},
     "output_type": "execute_result"
    }
   ],
   "source": [
    "len(np.unique(corpus.poet))"
   ]
  },
  {
   "cell_type": "code",
   "execution_count": 60,
   "metadata": {},
   "outputs": [],
   "source": [
    "def merge_corpus_poets(corpus):\n",
    "    \"\"\" Merge poems in corpus by poet. Epoch with the most entries will be chosen.\n",
    "    \"\"\"\n",
    "    df = corpus.copy()\n",
    "    new_poems = {}\n",
    "\n",
    "    for idx, poet in enumerate(list(np.unique(df.poet))):\n",
    "        pcorpus = df[df.poet == poet]\n",
    "        epochs = dict(pcorpus.epoch.value_counts())\n",
    "        s = \" \".join(pcorpus.poem)\n",
    "        new_poems[idx] = [idx, poet, s, max(epochs)]\n",
    "        \n",
    "    mod_c = pd.DataFrame.from_dict(new_poems).T\n",
    "    mod_c.columns = [\"id\", \"poet\", \"poem\", \"epoch\"]\n",
    "    \n",
    "    return mod_c"
   ]
  },
  {
   "cell_type": "code",
   "execution_count": 59,
   "metadata": {},
   "outputs": [
    {
     "data": {
      "text/html": [
       "<div>\n",
       "<style scoped>\n",
       "    .dataframe tbody tr th:only-of-type {\n",
       "        vertical-align: middle;\n",
       "    }\n",
       "\n",
       "    .dataframe tbody tr th {\n",
       "        vertical-align: top;\n",
       "    }\n",
       "\n",
       "    .dataframe thead th {\n",
       "        text-align: right;\n",
       "    }\n",
       "</style>\n",
       "<table border=\"1\" class=\"dataframe\">\n",
       "  <thead>\n",
       "    <tr style=\"text-align: right;\">\n",
       "      <th></th>\n",
       "      <th>id</th>\n",
       "      <th>poet</th>\n",
       "      <th>poem</th>\n",
       "      <th>epoch</th>\n",
       "    </tr>\n",
       "  </thead>\n",
       "  <tbody>\n",
       "    <tr>\n",
       "      <th>0</th>\n",
       "      <td>0</td>\n",
       "      <td>Abschatz, Hans Assmann von</td>\n",
       "      <td>Du angenehmer Haeyn voll stiller Einsamkeiten/...</td>\n",
       "      <td>Frühaufklärung</td>\n",
       "    </tr>\n",
       "    <tr>\n",
       "      <th>1</th>\n",
       "      <td>1</td>\n",
       "      <td>Abschatz, Hans Aßmann von</td>\n",
       "      <td>Was bleibt von Reichen unbekant? Hält gleich d...</td>\n",
       "      <td>Barock</td>\n",
       "    </tr>\n",
       "    <tr>\n",
       "      <th>2</th>\n",
       "      <td>2</td>\n",
       "      <td>Ahlefeld, Charlotte von</td>\n",
       "      <td>Nimm hin dies Bild, das auch in weite Ferne Di...</td>\n",
       "      <td>Biedermeier</td>\n",
       "    </tr>\n",
       "    <tr>\n",
       "      <th>3</th>\n",
       "      <td>3</td>\n",
       "      <td>Angelus Silesius</td>\n",
       "      <td>Der Liebe Mittelpunkt ist Gott und auch ihr Kr...</td>\n",
       "      <td>Barock</td>\n",
       "    </tr>\n",
       "    <tr>\n",
       "      <th>4</th>\n",
       "      <td>4</td>\n",
       "      <td>Arndt, Ernst Moritz</td>\n",
       "      <td>Wo kommst du her in dem roten Kleid Und färbst...</td>\n",
       "      <td></td>\n",
       "    </tr>\n",
       "    <tr>\n",
       "      <th>...</th>\n",
       "      <td>...</td>\n",
       "      <td>...</td>\n",
       "      <td>...</td>\n",
       "      <td>...</td>\n",
       "    </tr>\n",
       "    <tr>\n",
       "      <th>260</th>\n",
       "      <td>260</td>\n",
       "      <td>Ziegler, Christiana Mariana von</td>\n",
       "      <td>Die Dicht- und Redner Kunst liebt, was der Wit...</td>\n",
       "      <td>Frühaufklärung</td>\n",
       "    </tr>\n",
       "    <tr>\n",
       "      <th>261</th>\n",
       "      <td>261</td>\n",
       "      <td>Zinzendorf, Erdmuthe Dorothea von</td>\n",
       "      <td>1. Wir haben so ein fest mit seinen namen, die...</td>\n",
       "      <td>Frühaufklärung</td>\n",
       "    </tr>\n",
       "    <tr>\n",
       "      <th>262</th>\n",
       "      <td>262</td>\n",
       "      <td>Zinzendorf, Nicolaus Ludwig von</td>\n",
       "      <td>Brueder, last uns Jhn erheben, Den ihr ohne Na...</td>\n",
       "      <td>Frühaufklärung</td>\n",
       "    </tr>\n",
       "    <tr>\n",
       "      <th>263</th>\n",
       "      <td>263</td>\n",
       "      <td>Zinzendorf, Nikolaus Ludwig von</td>\n",
       "      <td>Du fragst: Du rechtes Witwen-Herz, Ich sage vo...</td>\n",
       "      <td>Frühaufklärung</td>\n",
       "    </tr>\n",
       "    <tr>\n",
       "      <th>264</th>\n",
       "      <td>264</td>\n",
       "      <td>Zäunemann, Sidonia Hedwig</td>\n",
       "      <td>Die Tugend rufet ihn, und zwar mit starkem – –...</td>\n",
       "      <td>Frühaufklärung</td>\n",
       "    </tr>\n",
       "  </tbody>\n",
       "</table>\n",
       "<p>265 rows × 4 columns</p>\n",
       "</div>"
      ],
      "text/plain": [
       "      id                               poet  \\\n",
       "0      0         Abschatz, Hans Assmann von   \n",
       "1      1          Abschatz, Hans Aßmann von   \n",
       "2      2            Ahlefeld, Charlotte von   \n",
       "3      3                   Angelus Silesius   \n",
       "4      4                Arndt, Ernst Moritz   \n",
       "..   ...                                ...   \n",
       "260  260    Ziegler, Christiana Mariana von   \n",
       "261  261  Zinzendorf, Erdmuthe Dorothea von   \n",
       "262  262    Zinzendorf, Nicolaus Ludwig von   \n",
       "263  263    Zinzendorf, Nikolaus Ludwig von   \n",
       "264  264          Zäunemann, Sidonia Hedwig   \n",
       "\n",
       "                                                  poem           epoch  \n",
       "0    Du angenehmer Haeyn voll stiller Einsamkeiten/...  Frühaufklärung  \n",
       "1    Was bleibt von Reichen unbekant? Hält gleich d...          Barock  \n",
       "2    Nimm hin dies Bild, das auch in weite Ferne Di...     Biedermeier  \n",
       "3    Der Liebe Mittelpunkt ist Gott und auch ihr Kr...          Barock  \n",
       "4    Wo kommst du her in dem roten Kleid Und färbst...                  \n",
       "..                                                 ...             ...  \n",
       "260  Die Dicht- und Redner Kunst liebt, was der Wit...  Frühaufklärung  \n",
       "261  1. Wir haben so ein fest mit seinen namen, die...  Frühaufklärung  \n",
       "262  Brueder, last uns Jhn erheben, Den ihr ohne Na...  Frühaufklärung  \n",
       "263  Du fragst: Du rechtes Witwen-Herz, Ich sage vo...  Frühaufklärung  \n",
       "264  Die Tugend rufet ihn, und zwar mit starkem – –...  Frühaufklärung  \n",
       "\n",
       "[265 rows x 4 columns]"
      ]
     },
     "execution_count": 59,
     "metadata": {},
     "output_type": "execute_result"
    }
   ],
   "source": [
    "merge_corpus_poets(corpus)"
   ]
  },
  {
   "cell_type": "code",
   "execution_count": 57,
   "metadata": {},
   "outputs": [
    {
     "data": {
      "text/plain": [
       "Realismus            71\n",
       "Frühaufklärung       44\n",
       "Aufklärung           43\n",
       "Barock               42\n",
       "Biedermeier          41\n",
       "Moderne              15\n",
       "                      7\n",
       "Weimarer_Republik     2\n",
       "Name: epoch, dtype: int64"
      ]
     },
     "execution_count": 57,
     "metadata": {},
     "output_type": "execute_result"
    }
   ],
   "source": [
    "mod_c.epoch.value_counts()"
   ]
  },
  {
   "cell_type": "code",
   "execution_count": null,
   "metadata": {},
   "outputs": [],
   "source": []
  }
 ],
 "metadata": {
  "kernelspec": {
   "display_name": "Python 3",
   "language": "python",
   "name": "python3"
  },
  "language_info": {
   "codemirror_mode": {
    "name": "ipython",
    "version": 3
   },
   "file_extension": ".py",
   "mimetype": "text/x-python",
   "name": "python",
   "nbconvert_exporter": "python",
   "pygments_lexer": "ipython3",
   "version": "3.7.7"
  }
 },
 "nbformat": 4,
 "nbformat_minor": 4
}
