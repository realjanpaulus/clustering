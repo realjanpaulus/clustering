{
 "cells": [
  {
   "cell_type": "markdown",
   "metadata": {},
   "source": [
    "# Corpus Modification"
   ]
  },
  {
   "cell_type": "code",
   "execution_count": 41,
   "metadata": {},
   "outputs": [],
   "source": [
    "import json\n",
    "import matplotlib.pyplot as plt\n",
    "%matplotlib inline\n",
    "%config InlineBackend.figure_format = 'svg'\n",
    "import numpy as np\n",
    "import pandas as pd\n",
    "from scipy.spatial.distance import pdist\n",
    "from scipy.cluster.hierarchy import cophenet, dendrogram, linkage\n",
    "from stop_words import get_stop_words\n",
    "import seaborn as sns\n",
    "\n",
    "from sklearn.cluster import AgglomerativeClustering\n",
    "from sklearn.decomposition import PCA, TruncatedSVD\n",
    "from sklearn.feature_extraction.text import TfidfVectorizer\n",
    "from sklearn.metrics import adjusted_rand_score\n",
    "from sklearn.preprocessing import LabelEncoder\n",
    "\n",
    "from utils import add_epoch_division, linkage_matrix, plot_dendrogram, remove_noise_poet, text_cleaning"
   ]
  },
  {
   "cell_type": "code",
   "execution_count": 42,
   "metadata": {},
   "outputs": [],
   "source": [
    "corpus = text_cleaning(pd.read_csv(\"../corpora/german_poems.csv\"))"
   ]
  },
  {
   "cell_type": "code",
   "execution_count": 44,
   "metadata": {},
   "outputs": [],
   "source": [
    "with open(\"epochs.json\") as f:\n",
    "    epochs = json.loads(f.read())\n",
    "\n",
    "epochs = epochs[\"brenner\"]\n",
    "epoch_exception = \"Klassik_Romantik\"\n",
    "corpus = add_epoch_division(corpus, epochs, epoch_exception=epoch_exception)"
   ]
  },
  {
   "cell_type": "code",
   "execution_count": 4,
   "metadata": {},
   "outputs": [],
   "source": [
    "LOWERCASE = True\n",
    "MAX_FEATURES = 10000\n",
    "STOP_WORDS = get_stop_words(\"de\")"
   ]
  },
  {
   "cell_type": "code",
   "execution_count": 74,
   "metadata": {},
   "outputs": [],
   "source": [
    "def merge_corpus_poets(corpus, min_count=6):\n",
    "    \"\"\" Merge poems in corpus by poet. Epoch with the most entries will be chosen.\n",
    "    \"\"\"\n",
    "    df = corpus.copy()\n",
    "    poets = [k for k, v in dict(df.poet.value_counts()).items() if v >= min_count]\n",
    "    df = df[df.poet.isin(poets)]\n",
    "    new_poems = {}\n",
    "\n",
    "    for idx, poet in enumerate(list(np.unique(df.poet))):\n",
    "        pcorpus = df[df.poet == poet]\n",
    "        epochs = dict(pcorpus.epoch.value_counts())\n",
    "        s = \" \".join(pcorpus.poem)\n",
    "        new_poems[idx] = [idx, poet, s, max(epochs)]\n",
    "        \n",
    "    mod_c = pd.DataFrame.from_dict(new_poems).T\n",
    "    mod_c.columns = [\"id\", \"poet\", \"poem\", \"epoch\"]\n",
    "    \n",
    "    return mod_c"
   ]
  },
  {
   "cell_type": "code",
   "execution_count": 76,
   "metadata": {},
   "outputs": [],
   "source": [
    "mod_c = merge_corpus_poets(corpus)"
   ]
  },
  {
   "cell_type": "code",
   "execution_count": 77,
   "metadata": {},
   "outputs": [
    {
     "data": {
      "text/plain": [
       "Realismus            69\n",
       "Frühaufklärung       41\n",
       "Aufklärung           39\n",
       "Barock               36\n",
       "Biedermeier          35\n",
       "Moderne               7\n",
       "                      4\n",
       "Weimarer_Republik     2\n",
       "Name: epoch, dtype: int64"
      ]
     },
     "execution_count": 77,
     "metadata": {},
     "output_type": "execute_result"
    }
   ],
   "source": [
    "mod_c.epoch.value_counts()"
   ]
  },
  {
   "cell_type": "code",
   "execution_count": null,
   "metadata": {},
   "outputs": [],
   "source": []
  }
 ],
 "metadata": {
  "kernelspec": {
   "display_name": "Python 3",
   "language": "python",
   "name": "python3"
  },
  "language_info": {
   "codemirror_mode": {
    "name": "ipython",
    "version": 3
   },
   "file_extension": ".py",
   "mimetype": "text/x-python",
   "name": "python",
   "nbconvert_exporter": "python",
   "pygments_lexer": "ipython3",
   "version": "3.7.7"
  }
 },
 "nbformat": 4,
 "nbformat_minor": 4
}
