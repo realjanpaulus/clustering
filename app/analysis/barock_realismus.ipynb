{
 "cells": [
  {
   "cell_type": "markdown",
   "metadata": {},
   "source": [
    "# Barock & Realismus"
   ]
  },
  {
   "cell_type": "code",
   "execution_count": 19,
   "metadata": {},
   "outputs": [],
   "source": [
    "import argparse\n",
    "from collections import Counter, defaultdict\n",
    "from datetime import datetime\n",
    "import json\n",
    "import logging\n",
    "import matplotlib.pyplot as plt\n",
    "import numpy as np\n",
    "import pandas as pd\n",
    "\n",
    "import seaborn as sns\n",
    "from sklearn.cluster import DBSCAN, KMeans\n",
    "from sklearn.decomposition import TruncatedSVD\n",
    "from sklearn.feature_extraction.text import TfidfVectorizer\n",
    "from sklearn.metrics import adjusted_mutual_info_score, adjusted_rand_score, completeness_score, homogeneity_score, v_measure_score\n",
    "from sklearn.mixture import GaussianMixture\n",
    "from sklearn.pipeline import make_pipeline\n",
    "from sklearn.preprocessing import LabelEncoder, Normalizer\n",
    "\n",
    "\n",
    "from stop_words import get_stop_words\n",
    "import sys\n",
    "# insert at 1, 0 is the script path (or '' in REPL)\n",
    "sys.path.append('../')\n",
    "from utils import add_epoch_division, clear_json, merge_corpus_poets, text_cleaning\n",
    "from yellowbrick.text import UMAPVisualizer"
   ]
  },
  {
   "cell_type": "code",
   "execution_count": 72,
   "metadata": {},
   "outputs": [],
   "source": [
    "corpus = text_cleaning(pd.read_csv(\"../../corpora/german_poems.csv\"))\n",
    "\n",
    "\n",
    "with open(\"../epochs.json\") as f:\n",
    "    epochs = json.loads(f.read())\n",
    "    \n",
    "epochs = epochs[\"brenner\"]\n",
    "\n",
    "split_barock = False\n",
    "if split_barock:\n",
    "    del epochs[\"Barock\"]\n",
    "    epochs[\"Frühbarock\"] = {\"b\": 1600, \"e\": 1650}\n",
    "    epochs[\"Hochbarock\"] = {\"b\": 1650, \"e\": 1700}\n",
    "    epoch1 = \"Frühbarock\"\n",
    "    epoch2 = \"Hochbarock\"\n",
    "    epoch3 = \"Realismus\"\n",
    "    k = 3\n",
    "else:\n",
    "    epoch1 = \"Barock\"\n",
    "    epoch2 = \"Realismus\"\n",
    "    k = 2\n",
    "\n",
    "epoch_exception = \"Klassik_Romantik\"\n",
    "\n",
    "corpus = add_epoch_division(corpus, epochs, epoch_exception=epoch_exception)\n",
    "corpus = merge_corpus_poets(corpus)"
   ]
  },
  {
   "cell_type": "code",
   "execution_count": 73,
   "metadata": {},
   "outputs": [],
   "source": [
    "if split_barock:\n",
    "    corpus = corpus[(corpus.epoch == epoch1) | (corpus.epoch == epoch2) | (corpus.epoch == epoch3)]\n",
    "else:\n",
    "    corpus = corpus[(corpus.epoch == epoch1) | (corpus.epoch == epoch2)]"
   ]
  },
  {
   "cell_type": "code",
   "execution_count": 75,
   "metadata": {},
   "outputs": [],
   "source": [
    "text = corpus[\"poem\"].values\n",
    "labels = LabelEncoder().fit_transform(corpus[\"epoch\"].values)\n",
    "unique_epochs = list(np.unique(corpus[\"epoch\"]))\n",
    "\n",
    "vectorizer = TfidfVectorizer(max_df=0.5,\n",
    "                             lowercase=True,\n",
    "                             max_features=10000,\n",
    "                             stop_words=get_stop_words(\"de\"))\n",
    "\n",
    "vector = vectorizer.fit_transform(text)"
   ]
  },
  {
   "cell_type": "code",
   "execution_count": 76,
   "metadata": {},
   "outputs": [
    {
     "name": "stdout",
     "output_type": "stream",
     "text": [
      "ARI: 0.843127545525446\n",
      "VM: 0.7812051699733796\n"
     ]
    }
   ],
   "source": [
    "kmeans = KMeans(k)\n",
    "kmeans.fit(vector)\n",
    "centroids = kmeans.cluster_centers_\n",
    "kmeans_ari = adjusted_rand_score(labels, kmeans.labels_)\n",
    "kmeans_vm = v_measure_score(labels, kmeans.labels_)\n",
    "print(f\"ARI: {kmeans_ari}\")\n",
    "print(f\"VM: {kmeans_vm}\")"
   ]
  },
  {
   "cell_type": "markdown",
   "metadata": {},
   "source": [
    "### insights"
   ]
  },
  {
   "cell_type": "code",
   "execution_count": 77,
   "metadata": {},
   "outputs": [],
   "source": [
    "corpusl = corpus.copy()\n",
    "corpusl[\"cluster\"] = kmeans.labels_"
   ]
  },
  {
   "cell_type": "code",
   "execution_count": 78,
   "metadata": {
    "collapsed": true
   },
   "outputs": [
    {
     "data": {
      "text/html": [
       "<div>\n",
       "<style scoped>\n",
       "    .dataframe tbody tr th:only-of-type {\n",
       "        vertical-align: middle;\n",
       "    }\n",
       "\n",
       "    .dataframe tbody tr th {\n",
       "        vertical-align: top;\n",
       "    }\n",
       "\n",
       "    .dataframe thead th {\n",
       "        text-align: right;\n",
       "    }\n",
       "</style>\n",
       "<table border=\"1\" class=\"dataframe\">\n",
       "  <thead>\n",
       "    <tr style=\"text-align: right;\">\n",
       "      <th></th>\n",
       "      <th>id</th>\n",
       "      <th>poet</th>\n",
       "      <th>poem</th>\n",
       "      <th>year</th>\n",
       "      <th>epoch</th>\n",
       "      <th>cluster</th>\n",
       "    </tr>\n",
       "  </thead>\n",
       "  <tbody>\n",
       "    <tr>\n",
       "      <th>20</th>\n",
       "      <td>20</td>\n",
       "      <td>Busch, Wilhelm</td>\n",
       "      <td>Ein Herr warf einem Bettelmann Fünf Groschen i...</td>\n",
       "      <td>1869</td>\n",
       "      <td>Realismus</td>\n",
       "      <td>1</td>\n",
       "    </tr>\n",
       "    <tr>\n",
       "      <th>95</th>\n",
       "      <td>95</td>\n",
       "      <td>Hofmannsthal, Hugo von</td>\n",
       "      <td>Der Schatten eines Toten fiel auf uns Und eine...</td>\n",
       "      <td>1893</td>\n",
       "      <td>Realismus</td>\n",
       "      <td>1</td>\n",
       "    </tr>\n",
       "    <tr>\n",
       "      <th>195</th>\n",
       "      <td>195</td>\n",
       "      <td>Stadler, Ernst</td>\n",
       "      <td>Starr stand er, Den Todespfeil im Herzen, Weiß...</td>\n",
       "      <td>1898</td>\n",
       "      <td>Realismus</td>\n",
       "      <td>1</td>\n",
       "    </tr>\n",
       "    <tr>\n",
       "      <th>12</th>\n",
       "      <td>12</td>\n",
       "      <td>Birken, Sigmund von</td>\n",
       "      <td>O wie wohl ist der daran, Der da kann Sich beg...</td>\n",
       "      <td>1660</td>\n",
       "      <td>Barock</td>\n",
       "      <td>0</td>\n",
       "    </tr>\n",
       "    <tr>\n",
       "      <th>141</th>\n",
       "      <td>141</td>\n",
       "      <td>Morgenstern, Christian</td>\n",
       "      <td>Jahrhunderttausende durchmißt mein Geist ... V...</td>\n",
       "      <td>1892</td>\n",
       "      <td>Realismus</td>\n",
       "      <td>1</td>\n",
       "    </tr>\n",
       "    <tr>\n",
       "      <th>179</th>\n",
       "      <td>179</td>\n",
       "      <td>Scheffel, Joseph Viktor von</td>\n",
       "      <td>Und wieder saß beim Weine Im Waldhorn ob der B...</td>\n",
       "      <td>1856</td>\n",
       "      <td>Realismus</td>\n",
       "      <td>1</td>\n",
       "    </tr>\n",
       "    <tr>\n",
       "      <th>86</th>\n",
       "      <td>86</td>\n",
       "      <td>Hensel, Luise</td>\n",
       "      <td>Wo berg' ich, Herr, die Schätze Deiner Gnade, ...</td>\n",
       "      <td>1857</td>\n",
       "      <td>Realismus</td>\n",
       "      <td>1</td>\n",
       "    </tr>\n",
       "    <tr>\n",
       "      <th>80</th>\n",
       "      <td>80</td>\n",
       "      <td>Harsdörffer, Georg Philipp</td>\n",
       "      <td>Da/ wo der Meisnerbach sich durch die Thäler z...</td>\n",
       "      <td>1632</td>\n",
       "      <td>Barock</td>\n",
       "      <td>0</td>\n",
       "    </tr>\n",
       "    <tr>\n",
       "      <th>52</th>\n",
       "      <td>52</td>\n",
       "      <td>Flaischlen, Cäsar</td>\n",
       "      <td>Laub am Boden, Laub am Boden, gelb und rot und...</td>\n",
       "      <td>1892</td>\n",
       "      <td>Realismus</td>\n",
       "      <td>1</td>\n",
       "    </tr>\n",
       "    <tr>\n",
       "      <th>58</th>\n",
       "      <td>58</td>\n",
       "      <td>George, Stefan</td>\n",
       "      <td>Es lacht in dem steigenden jahr dir  Der duft ...</td>\n",
       "      <td>1896</td>\n",
       "      <td>Realismus</td>\n",
       "      <td>1</td>\n",
       "    </tr>\n",
       "  </tbody>\n",
       "</table>\n",
       "</div>"
      ],
      "text/plain": [
       "      id                         poet  \\\n",
       "20    20               Busch, Wilhelm   \n",
       "95    95       Hofmannsthal, Hugo von   \n",
       "195  195               Stadler, Ernst   \n",
       "12    12          Birken, Sigmund von   \n",
       "141  141       Morgenstern, Christian   \n",
       "179  179  Scheffel, Joseph Viktor von   \n",
       "86    86                Hensel, Luise   \n",
       "80    80   Harsdörffer, Georg Philipp   \n",
       "52    52            Flaischlen, Cäsar   \n",
       "58    58               George, Stefan   \n",
       "\n",
       "                                                  poem  year      epoch  \\\n",
       "20   Ein Herr warf einem Bettelmann Fünf Groschen i...  1869  Realismus   \n",
       "95   Der Schatten eines Toten fiel auf uns Und eine...  1893  Realismus   \n",
       "195  Starr stand er, Den Todespfeil im Herzen, Weiß...  1898  Realismus   \n",
       "12   O wie wohl ist der daran, Der da kann Sich beg...  1660     Barock   \n",
       "141  Jahrhunderttausende durchmißt mein Geist ... V...  1892  Realismus   \n",
       "179  Und wieder saß beim Weine Im Waldhorn ob der B...  1856  Realismus   \n",
       "86   Wo berg' ich, Herr, die Schätze Deiner Gnade, ...  1857  Realismus   \n",
       "80   Da/ wo der Meisnerbach sich durch die Thäler z...  1632     Barock   \n",
       "52   Laub am Boden, Laub am Boden, gelb und rot und...  1892  Realismus   \n",
       "58   Es lacht in dem steigenden jahr dir  Der duft ...  1896  Realismus   \n",
       "\n",
       "     cluster  \n",
       "20         1  \n",
       "95         1  \n",
       "195        1  \n",
       "12         0  \n",
       "141        1  \n",
       "179        1  \n",
       "86         1  \n",
       "80         0  \n",
       "52         1  \n",
       "58         1  "
      ]
     },
     "execution_count": 78,
     "metadata": {},
     "output_type": "execute_result"
    }
   ],
   "source": [
    "corpusl.sample(10)"
   ]
  },
  {
   "cell_type": "code",
   "execution_count": 79,
   "metadata": {},
   "outputs": [],
   "source": [
    "years = list(corpusl[corpusl.cluster == 1].year.values)"
   ]
  },
  {
   "cell_type": "code",
   "execution_count": 80,
   "metadata": {
    "collapsed": true
   },
   "outputs": [
    {
     "data": {
      "text/plain": [
       "Counter({1650: 1,\n",
       "         1658: 1,\n",
       "         1660: 1,\n",
       "         1670: 1,\n",
       "         1849: 1,\n",
       "         1852: 2,\n",
       "         1853: 3,\n",
       "         1854: 4,\n",
       "         1855: 4,\n",
       "         1856: 1,\n",
       "         1857: 3,\n",
       "         1859: 3,\n",
       "         1860: 3,\n",
       "         1861: 1,\n",
       "         1862: 2,\n",
       "         1867: 1,\n",
       "         1868: 1,\n",
       "         1869: 2,\n",
       "         1870: 3,\n",
       "         1871: 2,\n",
       "         1873: 1,\n",
       "         1876: 1,\n",
       "         1877: 1,\n",
       "         1878: 1,\n",
       "         1879: 1,\n",
       "         1881: 1,\n",
       "         1882: 3,\n",
       "         1884: 1,\n",
       "         1887: 2,\n",
       "         1889: 1,\n",
       "         1890: 1,\n",
       "         1891: 3,\n",
       "         1892: 3,\n",
       "         1893: 1,\n",
       "         1894: 4,\n",
       "         1896: 2,\n",
       "         1898: 1,\n",
       "         1899: 1})"
      ]
     },
     "execution_count": 80,
     "metadata": {},
     "output_type": "execute_result"
    }
   ],
   "source": [
    "Counter(sorted(years))"
   ]
  },
  {
   "cell_type": "markdown",
   "metadata": {},
   "source": [
    "## visualizing"
   ]
  },
  {
   "cell_type": "code",
   "execution_count": 83,
   "metadata": {},
   "outputs": [
    {
     "name": "stderr",
     "output_type": "stream",
     "text": [
      "'c' argument looks like a single numeric RGB or RGBA sequence, which should be avoided as value-mapping will have precedence in case its length matches with 'x' & 'y'.  Please use a 2-D array with a single row if you really want to specify the same RGB or RGBA value for all points.\n",
      "'c' argument looks like a single numeric RGB or RGBA sequence, which should be avoided as value-mapping will have precedence in case its length matches with 'x' & 'y'.  Please use a 2-D array with a single row if you really want to specify the same RGB or RGBA value for all points.\n"
     ]
    },
    {
     "data": {
      "image/png": "[encoded data removed]",
      "text/plain": [
       "<Figure size 576x396 with 1 Axes>"
      ]
     },
     "metadata": {},
     "output_type": "display_data"
    }
   ],
   "source": [
    "umap = UMAPVisualizer(color=\"bold\")\n",
    "umap.fit(vector, kmeans.labels_)\n",
    "#umap.show()\n",
    "if split_barock:\n",
    "    umap.show(\"../../results/figures/Barock_Realismus_three_cluster.png\", dpi=300)\n",
    "else:\n",
    "    umap.show(\"../../results/figures/Barock_Realismus_two_cluster.png\", dpi=300)"
   ]
  },
  {
   "cell_type": "code",
   "execution_count": null,
   "metadata": {},
   "outputs": [],
   "source": []
  },
  {
   "cell_type": "code",
   "execution_count": null,
   "metadata": {},
   "outputs": [],
   "source": []
  },
  {
   "cell_type": "markdown",
   "metadata": {},
   "source": [
    "### topic modelling (TODO)"
   ]
  },
  {
   "cell_type": "code",
   "execution_count": 68,
   "metadata": {
    "collapsed": true
   },
   "outputs": [
    {
     "name": "stdout",
     "output_type": "stream",
     "text": [
      "\n",
      "Topics in LDA model:\n"
     ]
    }
   ],
   "source": [
    "from sklearn.decomposition import LatentDirichletAllocation\n",
    "\n",
    "realismus = corpus[corpus.epoch == \"Realismus\"]\n",
    "vector = vectorizer.fit_transform(realismus.poem)\n",
    "\n",
    "lda = LatentDirichletAllocation(n_components=20, random_state=0)\n",
    "lda.fit(vector)\n",
    "\n",
    "print(\"\\nTopics in LDA model:\")\n",
    "tf_feature_names = vectorizer.get_feature_names()\n",
    "def print_top_words(model, feature_names, n_top_words):\n",
    "    for topic_idx, topic in enumerate(model.components_):\n",
    "        message = \"Topic #%d: \" % topic_idx\n",
    "        message += \" \".join([feature_names[i]\n",
    "                             for i in topic.argsort()[:-n_top_words - 1:-1]])\n",
    "        print(message)\n",
    "    print()\n",
    "#print_top_words(lda, tf_feature_names, 20)"
   ]
  }
 ],
 "metadata": {
  "kernelspec": {
   "display_name": "Python 3",
   "language": "python",
   "name": "python3"
  },
  "language_info": {
   "codemirror_mode": {
    "name": "ipython",
    "version": 3
   },
   "file_extension": ".py",
   "mimetype": "text/x-python",
   "name": "python",
   "nbconvert_exporter": "python",
   "pygments_lexer": "ipython3",
   "version": "3.7.7"
  }
 },
 "nbformat": 4,
 "nbformat_minor": 4
}
