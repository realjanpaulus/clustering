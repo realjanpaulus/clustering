{
 "cells": [
  {
   "cell_type": "markdown",
   "metadata": {},
   "source": [
    "# Hierarchical Clustering"
   ]
  },
  {
   "cell_type": "code",
   "execution_count": 1,
   "metadata": {},
   "outputs": [],
   "source": [
    "import json\n",
    "import matplotlib.pyplot as plt\n",
    "%matplotlib inline\n",
    "%config InlineBackend.figure_format = 'svg'\n",
    "from nltk import word_tokenize\n",
    "import numpy as np\n",
    "import pandas as pd\n",
    "from pathlib import Path\n",
    "from scipy.spatial.distance import pdist\n",
    "from scipy.cluster.hierarchy import cophenet, dendrogram, linkage, ward, fcluster\n",
    "from stop_words import get_stop_words\n",
    "import seaborn as sns\n",
    "\n",
    "from sklearn.cluster import AgglomerativeClustering\n",
    "from sklearn.decomposition import PCA, TruncatedSVD, LatentDirichletAllocation\n",
    "from sklearn.feature_extraction.text import TfidfVectorizer\n",
    "from sklearn.metrics import adjusted_rand_score\n",
    "from sklearn.metrics.pairwise import cosine_similarity\n",
    "from sklearn.preprocessing import LabelEncoder\n",
    "\n",
    "from utils import add_epoch_division, alter_epoch_division, linkage_matrix, plot_dendrogram, remove_noise_poet, text_cleaning"
   ]
  },
  {
   "cell_type": "code",
   "execution_count": 6,
   "metadata": {},
   "outputs": [],
   "source": [
    "SPLIT_BAROCK = False\n",
    "DIM_RED = False\n",
    "DOWNSAMPLED = False\n",
    "LOWERCASE = True\n",
    "MAX_FEATURES = 10000\n",
    "NOISELESS = True\n",
    "if NOISELESS:\n",
    "    PATH = \"../corpora/amann_poems_noiseless.csv\"\n",
    "else:\n",
    "    PATH = \"../corpora/amann_poems.csv\"\n",
    "CORPUS_NAME = \"amann\"\n",
    "REDUCE_CORPUS = False\n",
    "STOP_WORDS = get_stop_words(\"de\")"
   ]
  },
  {
   "cell_type": "code",
   "execution_count": 7,
   "metadata": {},
   "outputs": [],
   "source": [
    "corpus = text_cleaning(pd.read_csv(PATH))\n",
    "corpus = corpus[corpus.epoch != \"Sturm_Drang\"]"
   ]
  },
  {
   "cell_type": "code",
   "execution_count": 8,
   "metadata": {},
   "outputs": [],
   "source": [
    "def random_downsampling(corpus, class_col = \"epoch\", max_value = 14):\n",
    "    \"\"\" Reduces all instances of all classes to a certain maximum value.\n",
    "    \"\"\"   \n",
    "    \n",
    "    \n",
    "    unique_epochs = list(np.unique(corpus[class_col]))\n",
    "    subcorpora = []\n",
    "    \n",
    "    for epoch in unique_epochs:\n",
    "        subcorpus = corpus[corpus[class_col] == epoch]\n",
    "        subcorpus = subcorpus.sample(max_value)\n",
    "        subcorpora.append(subcorpus)\n",
    "    \n",
    "    return pd.concat(subcorpora, axis=0)\n",
    "\n",
    "if DOWNSAMPLED:\n",
    "    corpus = random_downsampling(corpus)"
   ]
  },
  {
   "cell_type": "code",
   "execution_count": 9,
   "metadata": {},
   "outputs": [],
   "source": [
    "if SPLIT_BAROCK:\n",
    "    for idx, row in corpus.iterrows():\n",
    "        if row.year < 1650:\n",
    "            corpus.at[idx,\"epoch\"] = \"Frühbarock\"\n",
    "        elif row.year >= 1650 and row.year < 1700:\n",
    "            corpus.at[idx,\"epoch\"] = \"Hochbarock\""
   ]
  },
  {
   "cell_type": "code",
   "execution_count": 10,
   "metadata": {},
   "outputs": [],
   "source": [
    "vectorizer = TfidfVectorizer(max_df=0.5,\n",
    "                             lowercase=LOWERCASE,\n",
    "                             max_features=MAX_FEATURES,\n",
    "                             stop_words=STOP_WORDS)\n",
    "vector = vectorizer.fit_transform(corpus[\"poem\"])"
   ]
  },
  {
   "cell_type": "code",
   "execution_count": 11,
   "metadata": {},
   "outputs": [],
   "source": [
    "text = corpus[\"poem\"]\n",
    "shortened_classes = [c[:2] for c in corpus[\"epoch\"].values]\n",
    "ids = [p for p in corpus[\"id\"].values]"
   ]
  },
  {
   "cell_type": "markdown",
   "metadata": {},
   "source": [
    "### Ward-Algorithmus + Kosinus Ähnlichkeit"
   ]
  },
  {
   "cell_type": "code",
   "execution_count": 12,
   "metadata": {},
   "outputs": [],
   "source": [
    "dist = 1 - cosine_similarity(vector)\n",
    "linkage_matrix = ward(dist) \n",
    "\n",
    "fig, ax = plt.subplots(figsize=(15, 20)) # set size\n",
    "\n",
    "hierarchical_labels = corpus[\"epoch\"].values\n",
    "hierarchical_labels = corpus.year.values\n",
    "\n",
    "hierarchical_labels = []\n",
    "\n",
    "for i,j,k in zip(corpus.epoch.values, \n",
    "                 corpus.year.values,\n",
    "                 corpus.poet.values):\n",
    "    hierarchical_labels.append(k + \"__\" + str(j) + \"__\" + i)\n",
    "\n",
    "ax = dendrogram(linkage_matrix, orientation=\"right\", labels=hierarchical_labels);\n",
    "\n",
    "plt.tick_params(axis= 'x',  \n",
    "                which='both', \n",
    "                bottom='off',   \n",
    "                top='off',\n",
    "                labelbottom='off')\n",
    "\n",
    "figure_name = CORPUS_NAME\n",
    "\n",
    "if DOWNSAMPLED:\n",
    "    figure_name += \"_ds\"\n",
    "\n",
    "if NOISELESS:\n",
    "    figure_name += \"_noiseless\"\n",
    "    \n",
    "if SPLIT_BAROCK:\n",
    "    figure_name += \"_splitbarock\"\n",
    "\n",
    "\n",
    "plt.savefig(f'../results/hierarchical_clusters/{figure_name}.png', dpi=300) \n",
    "plt.close(fig)\n",
    "#plt.tight_layout()"
   ]
  },
  {
   "cell_type": "markdown",
   "metadata": {},
   "source": [
    "## Flatten cluster and save plots\n",
    "\n",
    "Only saving plots, where a flattened cluster of a specific treshold contains only one epoch"
   ]
  },
  {
   "cell_type": "code",
   "execution_count": 214,
   "metadata": {},
   "outputs": [
    {
     "data": {
      "text/plain": [
       "<Figure size 432x288 with 0 Axes>"
      ]
     },
     "metadata": {},
     "output_type": "display_data"
    }
   ],
   "source": [
    "for treshold in range(2, 18):\n",
    "    flat_clusters = fcluster(linkage_matrix, t=treshold, criterion='distance')\n",
    "    \n",
    "    d = {}\n",
    "    i = 0\n",
    "    for epoch,poet,year,cluster in zip(corpus.epoch, corpus.poet, corpus.year, flat_clusters):\n",
    "        d[i] = {\"epoch\": epoch, \"poet\": poet, \"year\": year, \"cluster\": cluster}\n",
    "        i += 1\n",
    "    cr = pd.DataFrame(d).T\n",
    "    \n",
    "    save = False\n",
    "    for p in range(1, len(list(np.unique(cr.cluster)))+1):\n",
    "        tmp_cr = cr[cr.cluster == p]\n",
    "        if len(np.unique(tmp_cr.epoch)) == 1:\n",
    "            plt.scatter(tmp_cr.cluster, tmp_cr.epoch, c=\"#d62728\", s=50, marker=\"X\")\n",
    "            save = True\n",
    "        else:\n",
    "            plt.scatter(tmp_cr.cluster, tmp_cr.epoch, c=\"#1f77b4\")\n",
    "    \n",
    "    if len(list(np.unique(cr.cluster))) > 20:\n",
    "        plt.xticks(list(range(0, len(list(np.unique(cr.cluster))) + 1, 2)))\n",
    "    else:\n",
    "        plt.xticks(list(range(0, len(list(np.unique(cr.cluster))) + 1)))\n",
    "    plt.xlabel(\"Cluster\")\n",
    "    \n",
    "        \n",
    "    if save:\n",
    "        plt.title(f\" treshold: {treshold}\\n cluster: {p}/{len(list(np.unique(cr.cluster)))}\")\n",
    "        output_name = f\"treshold{treshold}_{p}of{len(list(np.unique(cr.cluster)))}\"\n",
    "        plt.savefig(f\"../results/hierarchical_clusters/treshold_img/{output_name}.png\", \n",
    "                    dpi=300, bbox_inches='tight')\n",
    "        #plt.show()\n",
    "    plt.close()\n",
    "    plt.clf()"
   ]
  },
  {
   "cell_type": "code",
   "execution_count": null,
   "metadata": {},
   "outputs": [],
   "source": []
  },
  {
   "cell_type": "code",
   "execution_count": null,
   "metadata": {},
   "outputs": [],
   "source": []
  },
  {
   "cell_type": "code",
   "execution_count": null,
   "metadata": {},
   "outputs": [],
   "source": []
  }
 ],
 "metadata": {
  "kernelspec": {
   "display_name": "Python 3",
   "language": "python",
   "name": "python3"
  },
  "language_info": {
   "codemirror_mode": {
    "name": "ipython",
    "version": 3
   },
   "file_extension": ".py",
   "mimetype": "text/x-python",
   "name": "python",
   "nbconvert_exporter": "python",
   "pygments_lexer": "ipython3",
   "version": "3.7.7"
  }
 },
 "nbformat": 4,
 "nbformat_minor": 4
}
